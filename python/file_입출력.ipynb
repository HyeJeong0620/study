{
  "nbformat": 4,
  "nbformat_minor": 0,
  "metadata": {
    "colab": {
      "provenance": [],
      "collapsed_sections": []
    },
    "kernelspec": {
      "name": "python3",
      "display_name": "Python 3"
    },
    "language_info": {
      "name": "python"
    }
  },
  "cells": [
    {
      "cell_type": "markdown",
      "source": [
        "---\n",
        "# 파일 (file)\n",
        "\n",
        "### **파일 생성**\n",
        "+ 파일 객체 = open(파일 이름, 파일 열기 모드, encoding='UTF-8')\n",
        " - 파일명이 한글일 경우는 encoding='UTF-8' 을 사용\n",
        "\n",
        "### **파일출력함수 write()**\n",
        "### **파일출력함수**\n",
        "+ readline() : 파일의 첫 번째 줄을 읽어 출력하는 경우\n",
        "+ readlines() : 파일의 모든 라인을 읽어서 각각의 줄을 요소로 갖는 리스트로 리턴\n",
        "+ read() : 파일의 내용 전체를 문자열로 리턴\n",
        "\n",
        "### **파일 닫기**\n",
        "+ 파일 객체.close()"
      ],
      "metadata": {
        "id": "gwEH5reDaKvn"
      }
    },
    {
      "cell_type": "code",
      "execution_count": null,
      "metadata": {
        "colab": {
          "base_uri": "https://localhost:8080/"
        },
        "id": "iM8vY0XDZnH0",
        "outputId": "15cc278c-d705-4d7a-f5d9-b1a9f027dd42"
      },
      "outputs": [
        {
          "output_type": "stream",
          "name": "stdout",
          "text": [
            "Mounted at /content/gdrive/\n"
          ]
        }
      ],
      "source": [
        "# 구글 드라이브 마운트\n",
        "from google.colab import drive\n",
        "drive.mount('/content/gdrive/')"
      ]
    },
    {
      "cell_type": "code",
      "source": [
        "fp = open('/content/gdrive/MyDrive/지역평균기온.txt', 'r', encoding='UTF-8')\n",
        "fp"
      ],
      "metadata": {
        "colab": {
          "base_uri": "https://localhost:8080/"
        },
        "id": "IGUVuagGcoQe",
        "outputId": "c9426919-2a36-4278-ee03-3e78f02abad8"
      },
      "execution_count": null,
      "outputs": [
        {
          "output_type": "execute_result",
          "data": {
            "text/plain": [
              "<_io.TextIOWrapper name='/content/gdrive/MyDrive/지역평균기온.txt' mode='r' encoding='UTF-8'>"
            ]
          },
          "metadata": {},
          "execution_count": 14
        }
      ]
    },
    {
      "cell_type": "code",
      "source": [
        "data = fp.read()\n",
        "data"
      ],
      "metadata": {
        "id": "I30Ib2HNc36-",
        "colab": {
          "base_uri": "https://localhost:8080/",
          "height": 35
        },
        "outputId": "683f5fb9-7e35-4296-94da-b38e5efdea4b"
      },
      "execution_count": null,
      "outputs": [
        {
          "output_type": "execute_result",
          "data": {
            "text/plain": [
              "'서울,20\\n부산,26\\n대구,24\\n인천,24\\n광주,25\\n대전,22\\n울산,26\\n세종,23\\n경기,24\\n강원,23\\n충북,26\\n충남,22\\n전북,24\\n전남,23\\n경북,28\\n경남,29\\n제주,26\\n'"
            ],
            "application/vnd.google.colaboratory.intrinsic+json": {
              "type": "string"
            }
          },
          "metadata": {},
          "execution_count": 6
        }
      ]
    },
    {
      "cell_type": "code",
      "source": [
        "data2 = fp.readlines()\n",
        "data2"
      ],
      "metadata": {
        "colab": {
          "base_uri": "https://localhost:8080/"
        },
        "id": "pU8rpIHbc88R",
        "outputId": "07c0a4f6-bd6b-4472-d009-f6554d89efc5"
      },
      "execution_count": null,
      "outputs": [
        {
          "output_type": "execute_result",
          "data": {
            "text/plain": [
              "[]"
            ]
          },
          "metadata": {},
          "execution_count": 8
        }
      ]
    },
    {
      "cell_type": "code",
      "source": [
        "fp = fp.close()"
      ],
      "metadata": {
        "id": "GFlGQHE4dbyX"
      },
      "execution_count": null,
      "outputs": []
    },
    {
      "cell_type": "code",
      "source": [
        "dt = {}\n",
        "for line in data :\n",
        "  line = line.replace('\\n', '')\n",
        "  items = line.split(',')\n",
        "  dt[items[0]] = int(items[1])\n",
        "\n",
        "print(type(dt))\n",
        "print(dt)\n",
        "dt"
      ],
      "metadata": {
        "id": "kiVOuEaceWJA",
        "colab": {
          "base_uri": "https://localhost:8080/"
        },
        "outputId": "263c2d3f-e830-40ea-cb51-b7dcfd37c22e"
      },
      "execution_count": null,
      "outputs": [
        {
          "output_type": "stream",
          "name": "stdout",
          "text": [
            "<class 'dict'>\n",
            "{'서울': 20, '부산': 26, '대구': 24, '인천': 24, '광주': 25, '대전': 22, '울산': 26, '세종': 23, '경기': 24, '강원': 23, '충북': 26, '충남': 22, '전북': 24, '전남': 23, '경북': 28, '경남': 29, '제주': 26}\n"
          ]
        },
        {
          "output_type": "execute_result",
          "data": {
            "text/plain": [
              "{'서울': 20,\n",
              " '부산': 26,\n",
              " '대구': 24,\n",
              " '인천': 24,\n",
              " '광주': 25,\n",
              " '대전': 22,\n",
              " '울산': 26,\n",
              " '세종': 23,\n",
              " '경기': 24,\n",
              " '강원': 23,\n",
              " '충북': 26,\n",
              " '충남': 22,\n",
              " '전북': 24,\n",
              " '전남': 23,\n",
              " '경북': 28,\n",
              " '경남': 29,\n",
              " '제주': 26}"
            ]
          },
          "metadata": {},
          "execution_count": 15
        }
      ]
    },
    {
      "cell_type": "code",
      "source": [
        "with open('/content/gdrive/MyDrive/지역평균기온.txt', 'r', encoding='utf-8') as fp :\n",
        "  data = fp.readlines()\n",
        "print(data)"
      ],
      "metadata": {
        "id": "gMW03SrLfo6s",
        "colab": {
          "base_uri": "https://localhost:8080/"
        },
        "outputId": "3211f651-2b49-4fd7-f31d-daaf957f5053"
      },
      "execution_count": null,
      "outputs": [
        {
          "output_type": "stream",
          "name": "stdout",
          "text": [
            "['서울,20\\n', '부산,26\\n', '대구,24\\n', '인천,24\\n', '광주,25\\n', '대전,22\\n', '울산,26\\n', '세종,23\\n', '경기,24\\n', '강원,23\\n', '충북,26\\n', '충남,22\\n', '전북,24\\n', '전남,23\\n', '경북,28\\n', '경남,29\\n', '제주,26\\n']\n"
          ]
        }
      ]
    }
  ]
}