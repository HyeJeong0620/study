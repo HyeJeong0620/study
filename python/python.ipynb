{
  "cells": [
    {
      "cell_type": "markdown",
      "metadata": {
        "id": "JREWKjWfV3tm"
      },
      "source": [
        "# 파이썬"
      ]
    },
    {
      "cell_type": "markdown",
      "metadata": {
        "id": "kr29alAyX3l1"
      },
      "source": [
        "**파이썬이란?**<br> 문법이 간결하다.<br> 굉장히 쉽다.<br> 활용할수 있는 분야가 다양하다."
      ]
    },
    {
      "cell_type": "markdown",
      "metadata": {
        "id": "PK2YUzOeV5YS"
      },
      "source": [
        "# 자료형"
      ]
    },
    {
      "cell_type": "code",
      "execution_count": null,
      "metadata": {
        "id": "m7CPMBAnkxQd"
      },
      "outputs": [],
      "source": [
        "print('hello world')\n",
        "print(1)\n",
        "print(True)\n",
        "print(False)"
      ]
    },
    {
      "cell_type": "markdown",
      "metadata": {
        "id": "Pt8niAM_zJqg"
      },
      "source": [
        "문자로 이루어진 것은 문자 자료형<br>\n",
        "숫자로 이루어진 것은 숫자 자료형<br>\n",
        "Y/N 중 하나를 선택할 수 있는 것을 불리안 자료형<br>(단어의 시작부분인 T와 F는 대문자로)\n",
        "\n",
        "\n",
        "\n",
        "\n"
      ]
    },
    {
      "cell_type": "markdown",
      "metadata": {
        "id": "JD3cQfIkV7jM"
      },
      "source": [
        "# 변수"
      ]
    },
    {
      "cell_type": "code",
      "execution_count": null,
      "metadata": {
        "id": "ljsigRzF1JVE"
      },
      "outputs": [],
      "source": [
        "a = 10000\n",
        "b = '파이팅'\n",
        "\n",
        "print(a)\n",
        "print(b)"
      ]
    },
    {
      "cell_type": "markdown",
      "metadata": {
        "id": "78yW38sW1Z9u"
      },
      "source": [
        "**변수란?**<br>\n",
        "어떤 값을 저장하는 공간<br><br>\n",
        "**변수 선언**<br>\n",
        "변수 이름 = 값\n",
        "\n"
      ]
    },
    {
      "cell_type": "markdown",
      "metadata": {
        "id": "zLpbRCp6YK_V"
      },
      "source": [
        "# 변수 이름"
      ]
    },
    {
      "cell_type": "markdown",
      "metadata": {
        "id": "43t2AyrFYl86"
      },
      "source": [
        "1. 문자 또는 _로 시작<br>\n",
        "name, _name<br><br>\n",
        "2. 문자, 숫자, _로 구성<br>\n",
        "name123, _name_456<br><br>\n",
        "3. 공백 X, 특수문자 X<br>\n",
        "na me, $_name^^<br><br>\n",
        "4. 대소문자 구분<br>\n",
        "name, Name, NAME<br><br>\n",
        "5. 키워드 (예약어) X<br>\n",
        "True, False, for 등<br><br>\n",
        "6. 소문자 단어, _로 구분된 단어들(권장)<br>\n",
        "name, my_name<br>\n",
        "**가독성**을 위해, **밑줄로 구분**해 만드는 것이 좋다.\n"
      ]
    },
    {
      "cell_type": "markdown",
      "metadata": {
        "id": "6VkefK-Ca49b"
      },
      "source": [
        "# 형 변환"
      ]
    },
    {
      "cell_type": "markdown",
      "metadata": {
        "id": "f1FQTSSXccdX"
      },
      "source": [
        "형 변환이란?<br>\n",
        "자료형은 필요에 따라 변환하는 것<br>\n"
      ]
    },
    {
      "cell_type": "markdown",
      "metadata": {
        "id": "XW0s7QtYdynm"
      },
      "source": [
        "<h3>형 변환</h3>\n",
        "int('2') 정수로<br>\n",
        "float('1.5') 실수로<br>\n",
        "str(2) 문자로<br><br>\n",
        "이때 변환하는 자료형이 알 수 있는 형태여야 한다.\n",
        "\n"
      ]
    },
    {
      "cell_type": "code",
      "execution_count": null,
      "metadata": {
        "id": "NNJUPTpSd0Sg"
      },
      "outputs": [],
      "source": [
        "i = 2\n",
        "f = '3.14'\n",
        "s = '8'\n",
        "\n",
        "int(s)\n",
        "float(f)\n",
        "str(i)"
      ]
    },
    {
      "cell_type": "markdown",
      "metadata": {
        "id": "eQrxznLka5Wj"
      },
      "source": [
        "# 연산자"
      ]
    },
    {
      "cell_type": "markdown",
      "metadata": {
        "id": "yhVqq-xPhfGn"
      },
      "source": [
        "### 산술 연산자"
      ]
    },
    {
      "cell_type": "markdown",
      "metadata": {
        "id": "5gsYCXxQhfGo"
      },
      "source": [
        "더하기 +<br>\n",
        "빼기 -<br>\n",
        "곱하기 *<br>\n",
        "나누기 /<br>\n",
        "나머지 %<br>\n",
        "몫 //<br>\n",
        "거듭 제곱 **<br>"
      ]
    },
    {
      "cell_type": "code",
      "execution_count": null,
      "metadata": {
        "id": "YfTuG8m0hfGo"
      },
      "outputs": [],
      "source": [
        "print(8+2)\n",
        "print(8-2)\n",
        "print(8*2)\n",
        "print(8/2)\n",
        "print(8%2)\n",
        "print(8//2)\n",
        "print(8**2)"
      ]
    },
    {
      "cell_type": "markdown",
      "metadata": {
        "id": "i6mlF4ZzhepK"
      },
      "source": [
        "### 비교 연산자"
      ]
    },
    {
      "cell_type": "markdown",
      "metadata": {
        "id": "rMP24VRhhepR"
      },
      "source": [
        "크다 ><br>\n",
        "크거나 같다 >=<br>\n",
        "작다 <<br>\n",
        "작거나 같다 <=<br>\n",
        "같다 ==<br>\n",
        "같지 않다 !=<br>"
      ]
    },
    {
      "cell_type": "code",
      "execution_count": null,
      "metadata": {
        "id": "ropFBXYXhepR"
      },
      "outputs": [],
      "source": [
        "print(8>2)\n",
        "print(8>=2)\n",
        "print(8<2)\n",
        "print(8<=2)\n",
        "print(8==2)\n",
        "print(8!=2)"
      ]
    },
    {
      "cell_type": "markdown",
      "metadata": {
        "id": "Ko5Rmhgyil76"
      },
      "source": [
        "결과는 T, F인 **불리안 형태**로 나온다."
      ]
    },
    {
      "cell_type": "markdown",
      "metadata": {
        "id": "rYmWzm4hhSPQ"
      },
      "source": [
        "### 논리 연산자"
      ]
    },
    {
      "cell_type": "markdown",
      "metadata": {
        "id": "4mXUZdwehSPW"
      },
      "source": [
        "**and** 둘다 참이면 True <br>\n",
        "**or** 하나라도 참이면 True <br>\n",
        "**not** 반전"
      ]
    },
    {
      "cell_type": "code",
      "execution_count": null,
      "metadata": {
        "id": "paxUgx77hSPW"
      },
      "outputs": [],
      "source": [
        "print(3 < 5 and 7 < 5)\n",
        "print(3 < 5 or 7 < 5)\n",
        "print(not 3 < 5)"
      ]
    },
    {
      "cell_type": "markdown",
      "metadata": {
        "id": "uHnhW5B5gTeS"
      },
      "source": [
        "### 멤버 연산자"
      ]
    },
    {
      "cell_type": "markdown",
      "metadata": {
        "id": "ojX6XCtngvJI"
      },
      "source": [
        "**in** 포함<br>\n",
        "**not in** 미포함"
      ]
    },
    {
      "cell_type": "code",
      "execution_count": null,
      "metadata": {
        "id": "FEHDhRcYgA7X"
      },
      "outputs": [],
      "source": [
        "print('c' in 'cat')\n",
        "print('c' not in 'cat')"
      ]
    },
    {
      "cell_type": "markdown",
      "metadata": {
        "id": "QixIT47Ia5la"
      },
      "source": [
        "# 불리안"
      ]
    },
    {
      "cell_type": "markdown",
      "metadata": {
        "id": "EH_jYdjak6sD"
      },
      "source": [
        "bool( ? )<br><br>\n",
        "참이면 True<br>\n",
        "거짓이면 False<br><br>\n",
        "값이 있으면 True<br>\n",
        "값이 없으면 False"
      ]
    },
    {
      "cell_type": "markdown",
      "metadata": {
        "id": "Og8rFF1RlWmJ"
      },
      "source": [
        "### 문자 자료형"
      ]
    },
    {
      "cell_type": "code",
      "execution_count": null,
      "metadata": {
        "id": "bbEj_ylnlUnV"
      },
      "outputs": [],
      "source": [
        "a = 'hello' #값이 있음\n",
        "b = '  ' #값이 있음\n",
        "c = '' #값이 없음\n",
        "\n",
        "print(bool(a))\n",
        "print(bool(b))\n",
        "print(bool(c))"
      ]
    },
    {
      "cell_type": "markdown",
      "metadata": {
        "id": "sg7fn392mDdt"
      },
      "source": [
        "### 숫자 자료형"
      ]
    },
    {
      "cell_type": "code",
      "execution_count": null,
      "metadata": {
        "id": "KAnXf6g4mDdz"
      },
      "outputs": [],
      "source": [
        "a = 1 #값이 있음\n",
        "b = -2 #값이 있음\n",
        "c = 0 #값이 없음\n",
        "\n",
        "print(bool(a))\n",
        "print(bool(b))\n",
        "print(bool(c))"
      ]
    },
    {
      "cell_type": "markdown",
      "metadata": {
        "id": "Vrt3WpfXmZhn"
      },
      "source": [
        "### 그 외"
      ]
    },
    {
      "cell_type": "code",
      "execution_count": null,
      "metadata": {
        "id": "EUANZGrYmbB_"
      },
      "outputs": [],
      "source": [
        "print(bool(None))"
      ]
    },
    {
      "cell_type": "markdown",
      "metadata": {
        "id": "kDNyJT5ZbQkF"
      },
      "source": [
        "# 주석"
      ]
    },
    {
      "cell_type": "markdown",
      "metadata": {
        "id": "IjESAqlqm9w1"
      },
      "source": [
        "실제로 읽지는 않지만 참고하기 위해 적어두는 부연 설명 또는 메모"
      ]
    },
    {
      "cell_type": "markdown",
      "metadata": {
        "id": "q3KfV1eOnpgB"
      },
      "source": [
        "### 한줄 주석"
      ]
    },
    {
      "cell_type": "markdown",
      "metadata": {
        "id": "HL7PA5hAnJsW"
      },
      "source": [
        "주석 대상 문장 앞에 # 추가"
      ]
    },
    {
      "cell_type": "code",
      "execution_count": null,
      "metadata": {
        "id": "gEvN1Sw7nVLi"
      },
      "outputs": [],
      "source": [
        "print('신랑 신부 입장')\n",
        "# 걷기 시작하면\n",
        "print('큰 박수 부탁드립니다')"
      ]
    },
    {
      "cell_type": "markdown",
      "metadata": {
        "id": "OJ1qf5kNnu-e"
      },
      "source": [
        "### 여러줄 주석"
      ]
    },
    {
      "cell_type": "markdown",
      "metadata": {
        "id": "JH_S5qUMnu-e"
      },
      "source": [
        "주석 대상 문장 양옆에 ' ' ' , ' ' ' 추가"
      ]
    },
    {
      "cell_type": "code",
      "execution_count": null,
      "metadata": {
        "id": "7gFV3M7hnu-e"
      },
      "outputs": [],
      "source": [
        "print('신랑 신부 입장')\n",
        "'''걷기 시작하고 \n",
        "잠시후에'''\n",
        "print('큰 박수 부탁드립니다')"
      ]
    },
    {
      "cell_type": "markdown",
      "metadata": {
        "id": "8tb0GJscoJ2b"
      },
      "source": [
        "### 주석은 언제?"
      ]
    },
    {
      "cell_type": "markdown",
      "metadata": {
        "id": "-bq5Xl0coOve"
      },
      "source": [
        "- 복잡한 코드에 부연 설명 필요할때\n",
        "- 다른 개발자에게 메모를 남길 때\n",
        "- 테스트 목적으로 일부 코드의 실행을 막을 때"
      ]
    },
    {
      "cell_type": "markdown",
      "metadata": {
        "id": "PXEycRHpbQ8P"
      },
      "source": [
        "# 인덱스와 슬라이싱"
      ]
    },
    {
      "cell_type": "markdown",
      "metadata": {
        "id": "w_Fr0TU-ow38"
      },
      "source": [
        "### 인덱스"
      ]
    },
    {
      "cell_type": "markdown",
      "metadata": {
        "id": "UGzy24XUoySn"
      },
      "source": [
        "파이썬에서 몇 번째 = 인덱스 라고 한다.<br>\n",
        "0부터 시작한다."
      ]
    },
    {
      "cell_type": "code",
      "execution_count": null,
      "metadata": {
        "id": "XmpR2lQDo6yf"
      },
      "outputs": [],
      "source": [
        "lang = 'PYTHON'\n",
        "\n",
        "print(lang[0]) #첫 번째 값\n",
        "print(lang[5]) #마지막 값\n",
        "print(lang[-1]) #마지막 값"
      ]
    },
    {
      "cell_type": "markdown",
      "metadata": {
        "id": "SjgOyDSjpiqF"
      },
      "source": [
        "### 슬라이싱"
      ]
    },
    {
      "cell_type": "markdown",
      "metadata": {
        "id": "-tTFoPvEppaA"
      },
      "source": [
        "어디부터 : 어디까지 = 슬라이싱<br>\n",
        "어디부터 어디까지를 잘라주는 역할<br><br>\n",
        "lang[start:end] # start 부터 end **직전**까지"
      ]
    },
    {
      "cell_type": "code",
      "execution_count": null,
      "metadata": {
        "id": "DjXRYor8qNST"
      },
      "outputs": [],
      "source": [
        "lang = 'PYTHON'\n",
        "\n",
        "print(lang[1:6])\n",
        "# 인덱스 1부터 6 직전까지\n",
        "print(lang[1:])\n",
        "# 인덱스 1부터 끝까지\n",
        "print(lang[:4])\n",
        "# 처음부터 인덱스 4 직전까지\n",
        "print(lang[:])\n",
        "# 처음부터 끝까지"
      ]
    },
    {
      "cell_type": "markdown",
      "metadata": {
        "id": "cmMR88U0bQo-"
      },
      "source": [
        "# 문자열 처리"
      ]
    },
    {
      "cell_type": "markdown",
      "metadata": {
        "id": "YQdBfXEQa1B2"
      },
      "source": [
        "2 + '꿀꽈배기' = 불가능<br>\n",
        "하지만 2를 문자로 변환하면<br>\n",
        "'2' + '꿀꽈배기' = '2꿀과배기' 가능"
      ]
    },
    {
      "cell_type": "code",
      "execution_count": null,
      "metadata": {
        "id": "IIRuGRVebXPs"
      },
      "outputs": [],
      "source": [
        "snack = '꿀꽈배기'\n",
        "two = '2개'\n",
        "\n",
        "juseyo = snack + two\n",
        "#꿀꽈배기2개\n",
        "\n",
        "juseyo += '주세요'\n",
        "#꿀꽈배기2개주세요"
      ]
    },
    {
      "cell_type": "code",
      "execution_count": null,
      "metadata": {
        "id": "xu2yPq9GcCWi"
      },
      "outputs": [],
      "source": [
        "num = 3\n",
        "num += 2\n",
        "\n",
        "#현재 num은 5\n",
        "num -= 1 #num은 4\n",
        "num *= 2 #num은 8\n",
        "num /= 4 #num은 2.0"
      ]
    },
    {
      "cell_type": "markdown",
      "metadata": {
        "id": "E8jK6b8ycYf-"
      },
      "source": [
        "문자열 몇 글자인지 길이를 구하는 방법도 있다.<br><br>\n",
        "**길이(length)**<br>\n",
        "길이를 알고 싶은 문자열을 len()에 넣으면 알 수 있다."
      ]
    },
    {
      "cell_type": "code",
      "execution_count": null,
      "metadata": {
        "id": "YTlinRv_cfLt"
      },
      "outputs": [],
      "source": [
        "snack = '꿀꽈배기' #몇 글자?\n",
        "\n",
        "print(len(snack))"
      ]
    },
    {
      "cell_type": "markdown",
      "metadata": {
        "id": "4ukaOWtmdFGO"
      },
      "source": [
        "때로는 여러 줄에 해당하는 문자열이 필요한 경우가 있다.<br>\n",
        "변수를 선언할 때 문자열 앞 뒤로 ' ' ' 을 감싸면 된다."
      ]
    },
    {
      "cell_type": "code",
      "execution_count": null,
      "metadata": {
        "id": "0PM4PDljdB95"
      },
      "outputs": [],
      "source": [
        "snack = '''꿀꽈배기는\n",
        "너무\n",
        "맛있어요'''\n",
        "\n",
        "print(len(snack))"
      ]
    },
    {
      "cell_type": "markdown",
      "metadata": {
        "id": "PU0AxZSmbeFV"
      },
      "source": [
        "# 문자열 메소드"
      ]
    },
    {
      "cell_type": "markdown",
      "metadata": {
        "id": "Ukm87XZIdqgO"
      },
      "source": [
        "메소드(Method)란?<br>\n",
        "클래스 내에 정의된 어떤 동작, **기능**을 하는 코드들의 묶음"
      ]
    },
    {
      "cell_type": "markdown",
      "metadata": {
        "id": "GQOBzbLNeRQv"
      },
      "source": [
        "문자열 메소드 사용 방법<br>\n",
        "문자열.메소드(...)"
      ]
    },
    {
      "cell_type": "code",
      "execution_count": null,
      "metadata": {
        "id": "CkTXFSPufQpc"
      },
      "outputs": [],
      "source": [
        "letter = 'how are YOU'\n",
        "\n",
        "print(letter.lower()) #소문자로\n",
        "\n",
        "print(letter.upper()) #대문자로\n",
        "\n",
        "print(letter.capitalize()) #첫 글자만 대문자로\n",
        "\n",
        "print(letter.title()) #각 단어 첫 글자만 대문자로\n",
        "\n",
        "print(letter.swapcase()) #대소문자 상호 변환\n",
        "\n",
        "print(letter.split()) #문자열 분리\n",
        "\n",
        "print(letter.count('how')) #특정 단어의 수\n",
        "\n",
        "print(letter.startswith()) #~로 시작하는지\n",
        "\n",
        "print(letter.endswith()) #~로 끝나는지\n",
        "\n",
        "print(letter.strip()) #앞뒤 불필요한 부분 제거\n",
        "\n",
        "print(letter.replace()) #단어 바꾸기\n",
        "\n",
        "print(letter.find()) #단어 위치 찾기\n",
        "\n",
        "print(letter.center()) #다른 문자들 사이 가운데"
      ]
    },
    {
      "cell_type": "markdown",
      "metadata": {
        "id": "bArO3KpgbeYt"
      },
      "source": [
        "# 문자열 포멧"
      ]
    },
    {
      "cell_type": "markdown",
      "metadata": {
        "id": "A6ztYU4YietV"
      },
      "source": [
        "### 문자열 출력"
      ]
    },
    {
      "cell_type": "code",
      "execution_count": null,
      "metadata": {
        "id": "StTYIbBYieBN"
      },
      "outputs": [],
      "source": [
        "python = '파이썬'\n",
        "java = '자바'\n",
        "\n",
        "#둘 다 출력하려면?\n",
        "print(python + ' ' + java)\n",
        "#또는\n",
        "print(python, java)\n",
        "\n",
        "#다른 문장 속에 넣으려면?\n",
        "#개발 언어에는 파이썬, 자바 등이 있어요\n",
        "print('개발 언어에는' + python + ',' + java + '등이 있어요')\n",
        "print('개발 언어에는',  python, ',', java, '등이 있어요')\n",
        "\n",
        "#이렇게 하면 복잡해 보임"
      ]
    },
    {
      "cell_type": "markdown",
      "metadata": {
        "id": "-0xxy4NmjY7g"
      },
      "source": [
        "### 문자열 포멧"
      ]
    },
    {
      "cell_type": "code",
      "execution_count": 1,
      "metadata": {
        "id": "JZX3RQOeja7n"
      },
      "outputs": [
        {
          "name": "stdout",
          "output_type": "stream",
          "text": [
            "개발 언어에는 파이썬, 자바 등이 있어요\n",
            "개발 언어에는 파이썬, 자바 등이 있어요\n",
            "개발 언어에는 자바, 파이썬 등이 있어요\n",
            "개발 언어에는 파이썬, 자바 등이 있어요\n"
          ]
        }
      ],
      "source": [
        "python = '파이썬'\n",
        "java = '자바'\n",
        "\n",
        "# 1. { } + format\n",
        "print('개발 언어에는 {}, {} 등이 있어요'.format(python, java))\n",
        "\n",
        "# 2. {N} + format\n",
        "print('개발 언어에는 {0}, {1} 등이 있어요'.format(python, java))\n",
        "print('개발 언어에는 {1}, {0} 등이 있어요'.format(python, java))\n",
        "\n",
        "# 3. f-string\n",
        "print(f'개발 언어에는 {python}, {java} 등이 있어요')"
      ]
    },
    {
      "cell_type": "markdown",
      "metadata": {
        "id": "0JqaiprdkmVw"
      },
      "source": [
        "1. { } + format<br>\n",
        " 포멧 속에 있는 값들이 순서도로 중괄호에 대입\n",
        "2. {N} + format<br>\n",
        " 중괄호 안의 순서를 숫자를 통해서 정해줄 수 있다.\n",
        "3. f-string<br>\n",
        " 문장 앞에 f를 적고 중괄호 안에 출력하고자 하는 값을 정의하면 된다."
      ]
    },
    {
      "cell_type": "markdown",
      "metadata": {
        "id": "sqpP4GNybeqL"
      },
      "source": [
        "# 탈출 문자"
      ]
    },
    {
      "cell_type": "markdown",
      "metadata": {
        "id": "Y9yNhcksnIpO"
      },
      "source": [
        "따옴표 문제"
      ]
    },
    {
      "cell_type": "code",
      "execution_count": null,
      "metadata": {
        "id": "8J1Q2tYilx91"
      },
      "outputs": [],
      "source": [
        "#친구가 \"파이썬 배우기 쉬워?\" 하고 물었다.\n",
        "print('친구가 \"파이썬 배우기 쉬워?\" 하고 물었다.')\n",
        "\n",
        "#나는 속으로 '엄청 어려운데...' 라고 생각했다.\n",
        "print('나는 속으로 '엄청 어려운데...' 라고 생각했다.') #에러 발생\n",
        "print(\"나는 속으로 '엄청 어려운데...' 라고 생각했다.\") #해결\n",
        "\n",
        "#하지만 '나만 당할 순 없지'라는 생각에 \"엄청 쉽지\" 라고 했다.\n",
        "print(\"하지만 '나만 당할 순 없지'라는 생각에 \"엄청 쉽지\" 라고 했다.\") #에러 발생\n",
        "#이럴때 탈출 문자 사용"
      ]
    },
    {
      "cell_type": "markdown",
      "metadata": {
        "id": "FqyWwgCCmt1i"
      },
      "source": [
        "탈출 문자란?<br>\n",
        "역슬래시( \\ )와 특정 문자(숫자)의 조합으로 표현할 수 없는 기능이나 문자를 표시"
      ]
    },
    {
      "cell_type": "code",
      "execution_count": null,
      "metadata": {
        "id": "vzySYtLdnZVK"
      },
      "outputs": [],
      "source": [
        "#큰 따옴표는 \\ \"\n",
        "#작은 따옴표는 \\ '\n",
        "#역슬래시는 \\\\\n",
        "#줄바꿈은 \\n\n",
        "\n",
        "#하지만 '나만 당할 순 없지'라는 생각에 \"엄청 쉽지\" 라고 했다.\n",
        "print('하지만 \\'나만 당할 순 없지\\'라는 생각에 \\\"엄청 쉽지\\\" 라고 했다.')\n",
        "\n",
        "#C:\\Users\\Nadocoding\n",
        "print('C:\\Users\\Nadocoding') # 에러 발생\n",
        "#두 번씩 적어주면 에러 X\n",
        "print('C:\\\\Users\\\\Nadocoding')\n",
        "\n",
        "snack = '꿀꽈배기는\\n너무\\n맛있어요'\n",
        "\n",
        "print(snack)"
      ]
    },
    {
      "cell_type": "markdown",
      "metadata": {
        "id": "Y_pmx0VmbvHj"
      },
      "source": [
        "# 리스트"
      ]
    },
    {
      "cell_type": "markdown",
      "metadata": {
        "id": "o4pkOB0wowKo"
      },
      "source": [
        "리스트란?<br>\n",
        "여러개의 값을 저장할 수 있다<br>\n",
        "일반적으로 서로 관련 있는 연속적인 데이터들을 관리하는데 사용"
      ]
    },
    {
      "cell_type": "markdown",
      "metadata": {
        "id": "d8HFwgVApBXp"
      },
      "source": [
        "리스트 = [값1, 값2, ...]"
      ]
    },
    {
      "cell_type": "code",
      "execution_count": null,
      "metadata": {
        "id": "UcIEfYYMpFpX"
      },
      "outputs": [],
      "source": [
        "my_list = ['오예스', '몽쉘', '초코파이', '초코파이', '초코파이'] #중복 허용\n",
        "your_list = [1, 2, 3.14, True, False, '아무거나'] # 뭐든지 다 넣어요\n",
        "empty_list = [] # 빈 리스트"
      ]
    },
    {
      "cell_type": "code",
      "execution_count": null,
      "metadata": {
        "id": "K57hP34np4kw"
      },
      "outputs": [],
      "source": [
        "my_list = ['오예스', '몽쉘', '초코파이'] \n",
        "your_list = ['빅파이', '오뜨']\n",
        "# 순서 보장!!!, 슬라이싱 가능, 수정/추가 가능\n",
        "\n",
        "#인덱스에 해당하는 값?\n",
        "print(my_list[0])\n",
        "\n",
        "#어디부터 어디까지 슬라이싱?\n",
        "print(my_list[0:2])\n",
        "\n",
        "#리스트에 포함되어 있는지?\n",
        "print('몽쉘' in my_list)\n",
        "\n",
        "#총 몇 개?\n",
        "print(len(my_list))\n",
        "\n",
        "#리스트를 수정하려면?\n",
        "my_list[1] = '몽쉘카카오' # 값 수정\n",
        "print(my_list)\n",
        "\n",
        "my_list.append('빅파이') # 값 추가\n",
        "print(my_list)\n",
        "\n",
        "my_list.remove('오예스') # 값 삭제\n",
        "print(my_list)\n",
        "\n",
        "#다른 리스트를 더하려면?\n",
        "my_list.extend(your_list) # 리스트 확장\n",
        "print(my_list)"
      ]
    },
    {
      "cell_type": "markdown",
      "metadata": {
        "id": "KdlkQjkyrul_"
      },
      "source": [
        "**리스트 메소드**<br>\n",
        "\n",
        "---\n",
        "\n",
        "\n",
        "insert() - 원하는 위치에 값 추가<br>\n",
        "pop() - 원하는 위치(또는 마지막)의 값 삭제<br>\n",
        "clear() - 모든 값 삭제<br>\n",
        "sort() - 값 순서대로 정렬<br>\n",
        "reverse() - 순서 뒤집기<br>\n",
        "copy() - 리스트 복사<br>\n",
        "count() - 어떤 값이 몇 개 있는지<br>\n",
        "index() - 어떤 값이 어디에 있는지"
      ]
    },
    {
      "cell_type": "markdown",
      "metadata": {
        "id": "zIqx1CClbvZy"
      },
      "source": [
        "# 튜플"
      ]
    },
    {
      "cell_type": "markdown",
      "metadata": {
        "id": "GjRzzLpOtKT-"
      },
      "source": [
        "튜플 = (값1, 값2, ...)<br>\n",
        "튜플 = 읽기 전용 리스트<br>\n",
        "**수정 불가**"
      ]
    },
    {
      "cell_type": "markdown",
      "metadata": {
        "id": "5YLLmNVuuAn0"
      },
      "source": [
        "튜플은 리스트와 동일하게 중복 허용, 뭐든지 다 넣고<br>\n",
        "사용법도 수정하는 것을 제외하면 비슷하게 사용가능"
      ]
    },
    {
      "cell_type": "code",
      "execution_count": null,
      "metadata": {
        "id": "CC7qYqyJun4f"
      },
      "outputs": [],
      "source": [
        "my_tuple = ('오예스', '몽쉘', '초코파이') # 패킹(묶는다)\n",
        "\n",
        "(pie1, pie2, pie3) = my_tuple # 언패킹(푼다)\n",
        "#두 코드는 같은 코드\n",
        "pie1 = '오예스'\n",
        "pie2 = '몽쉘'\n",
        "pie3 = '초코파이'"
      ]
    },
    {
      "cell_type": "markdown",
      "metadata": {
        "id": "75TAfBo8vpxi"
      },
      "source": [
        "언패킹에는 *이 사용된다."
      ]
    },
    {
      "cell_type": "code",
      "execution_count": null,
      "metadata": {
        "id": "zmTTneD2vjr8"
      },
      "outputs": [],
      "source": [
        "numbers = (1, 2, 3, 4, 5, 6, 7, 8, 9, 10)\n",
        "(one, two, *others) = numbers\n",
        "''' one = 1, two = 2,\n",
        "*others[3~10]는 튜플이 아닌 리스트형태가 된다.'''\n",
        "\n",
        "#필요에 따라 순서 변경 가능\n",
        "(*others, nine, ten) = numbers\n",
        "'''*others[1~8]는 튜플이 아닌 리스트형태가 된다.\n",
        "nine = 9, ten = 10'''"
      ]
    },
    {
      "cell_type": "markdown",
      "metadata": {
        "id": "gCbSJQK9b3j5"
      },
      "source": [
        "# 세트"
      ]
    },
    {
      "cell_type": "markdown",
      "metadata": {
        "id": "lvKnw5LLwvj-"
      },
      "source": [
        "여러 개의 데이터 저장 가능<br>\n",
        "but 순서 보장 X, 중복 X<br>\n",
        "값 추가 가능"
      ]
    },
    {
      "cell_type": "markdown",
      "metadata": {
        "id": "tY_WTh_cxIK7"
      },
      "source": [
        "세트 = {값1, 값2, ... }"
      ]
    },
    {
      "cell_type": "code",
      "execution_count": null,
      "metadata": {
        "id": "KVotUfnWxNFH"
      },
      "outputs": [],
      "source": [
        "A = {'돈까스', '보쌈', '제육덮밥'}\n",
        "B = {'짬뽕', '초밥', '제육덮밥'}\n",
        "\n",
        "#두 친구가 공통으로 좋아하는 음식은? (= 교집합)\n",
        "print(A.intersection(B))\n",
        "\n",
        "#두 친구가 좋아하는 음식 모두? (= 합집합)\n",
        "print(A.union(B))\n",
        "\n",
        "#A만 좋아하는 음식? (= 차집합)\n",
        "print(A.difference(B))"
      ]
    },
    {
      "cell_type": "markdown",
      "metadata": {
        "id": "fHXq-EilyrsN"
      },
      "source": [
        "값 추가(add)"
      ]
    },
    {
      "cell_type": "code",
      "execution_count": null,
      "metadata": {
        "id": "tn5mgPw5ydVk"
      },
      "outputs": [],
      "source": [
        "my_set = {'돈가스', '보쌈', '제육덮밥'}\n",
        "my_set.add('닭갈비')\n",
        "print(my_set)"
      ]
    },
    {
      "cell_type": "markdown",
      "metadata": {
        "id": "QRnCzj29yvZL"
      },
      "source": [
        "값 삭제(remove)"
      ]
    },
    {
      "cell_type": "code",
      "execution_count": null,
      "metadata": {
        "id": "nGXTNdRQyzQW"
      },
      "outputs": [],
      "source": [
        "my_set = {'돈가스', '보쌈', '제육덮밥'}\n",
        "my_set.remove('닭갈비')\n",
        "print(my_set)"
      ]
    },
    {
      "cell_type": "markdown",
      "metadata": {
        "id": "bQXlvLRVy7J9"
      },
      "source": [
        "값 모두 삭제(clear)"
      ]
    },
    {
      "cell_type": "code",
      "execution_count": null,
      "metadata": {
        "id": "zm7hZ36ky7J-"
      },
      "outputs": [],
      "source": [
        "my_set = {'돈가스', '보쌈', '제육덮밥'}\n",
        "my_set.clear()\n",
        "print(my_set)"
      ]
    },
    {
      "cell_type": "markdown",
      "metadata": {
        "id": "oYgJLKSbzGUZ"
      },
      "source": [
        "완전 삭제(del)"
      ]
    },
    {
      "cell_type": "code",
      "execution_count": null,
      "metadata": {
        "id": "IgFoYNTczGUZ"
      },
      "outputs": [],
      "source": [
        "my_set = {'돈가스', '보쌈', '제육덮밥'}\n",
        "del my_set\n",
        "print(my_set)"
      ]
    },
    {
      "cell_type": "markdown",
      "metadata": {
        "id": "aE0hHXf7zVmg"
      },
      "source": [
        "<h2>세트 메소드</h2>\n",
        "copy() - 세트 복사<br>\n",
        "discard() - 값 삭제(해당 값이 없어도 에러 발생 X)<br>\n",
        "isdisjoint() - 두 세트에 겹치는 값이 없는지 여부<br>\n",
        "issubset() - 다른 세트의 부분집합인지 여부<br>\n",
        "issuperset() - 다른 세트의 상위집합인지 여부<br>\n",
        "update() - 다른 세트의 값들을 더함"
      ]
    },
    {
      "cell_type": "markdown",
      "metadata": {
        "id": "L2LPeFGQb34Y"
      },
      "source": [
        "# 딕셔너리"
      ]
    },
    {
      "cell_type": "markdown",
      "metadata": {
        "id": "80AWsza1DlDJ"
      },
      "source": [
        "딕셔너리는 key와 value가 항상 쌍으로 이루어지는 것<br> \n",
        "딕셔너리 = (key(중복 불가), value)<br>"
      ]
    },
    {
      "cell_type": "markdown",
      "metadata": {
        "id": "FiPhZgJVEgJE"
      },
      "source": [
        "딕셔너리 = {key1:value1, key2:value2, ...}"
      ]
    },
    {
      "cell_type": "code",
      "execution_count": null,
      "metadata": {
        "id": "zldX2lK5EHRR"
      },
      "outputs": [],
      "source": [
        "person = {\n",
        "    '이름':'나귀욤',\n",
        "    '나이':7,\n",
        "    '키':120,\n",
        "    '몸무게':23\n",
        "}\n",
        "#value 부분에는 숫자, 문자, 불리안, 리스트나 튜플 등도 사용 가능\n",
        "\n",
        "print(person['이름'])\n",
        "print(person['나이'])"
      ]
    },
    {
      "cell_type": "code",
      "execution_count": null,
      "metadata": {
        "id": "nniF5hwUFQJE"
      },
      "outputs": [],
      "source": [
        "print(person.get('별명')) # 없는 key에 접근하면 None 출력\n",
        "\n",
        "person['최종학력'] = '유치원' # 새로운 데이터 추가\n",
        "\n",
        "person['키'] = 130 #특정 key의 value 수정\n",
        "\n",
        "person.update({'키':130, '몸무게':26}) #여러 key들의 value 수정\n",
        "\n",
        "person.pop('몸무게') #특정 key:value를 삭제\n",
        "\n",
        "person.clear() #모든 데이터 삭제\n",
        "\n",
        "print(person.keys()) #어떤 key가 있는지\n",
        "\n",
        "print(person.values()) #어떤 value가 있는지\n",
        "\n",
        "print(person.items()) #어떤 key:value가 있는지"
      ]
    },
    {
      "cell_type": "markdown",
      "metadata": {
        "id": "MCpim6MxGvwk"
      },
      "source": [
        "fromkeys() - 제공된 keys를 통해 새로운 딕션너리 생성 및 반환 <br>\n",
        "popitem() - 마지막으로 추가된 데이터 삭제 <br>\n",
        "setdefault() - key에 해당하는 value 반환, key가 없다면 새로 만들고 default value 설정 및 반환"
      ]
    },
    {
      "cell_type": "markdown",
      "metadata": {
        "id": "o-FOOsmYb6Xc"
      },
      "source": [
        "# 자료형 비교"
      ]
    },
    {
      "cell_type": "markdown",
      "metadata": {
        "id": "1r5-C4MCHfVY"
      },
      "source": [
        "<h2>리스트</h2>\n",
        "\n",
        "---\n",
        "\n",
        "선언 : lst =  [ ] <br>\n",
        "순서 보장 : O <br>\n",
        "중복 허용 : O <br>\n",
        "접근 : lst[idx] <br>\n",
        "수정 : O <br>\n",
        "추가 : append(), insert(), extend() <br>\n",
        "삭제 : remove(), pop(), clear()"
      ]
    },
    {
      "cell_type": "markdown",
      "metadata": {
        "id": "eIDsQSnwIebq"
      },
      "source": [
        "<h2>튜플</h2>\n",
        "\n",
        "---\n",
        "\n",
        "선언 : t =  ( ) <br>\n",
        "순서 보장 : O <br>\n",
        "중복 허용 : O <br>\n",
        "접근 : t[idx] <br>\n",
        "수정 : X <br>\n",
        "추가 : X <br>\n",
        "삭제 : X"
      ]
    },
    {
      "cell_type": "markdown",
      "metadata": {
        "id": "MOOa0zmxIpU3"
      },
      "source": [
        "<h2>세트</h2>\n",
        "\n",
        "---\n",
        "\n",
        "선언 : s = { } <br>\n",
        "순서 보장 : X <br>\n",
        "중복 허용 : X <br>\n",
        "접근 : X <br>\n",
        "수정 : X <br>\n",
        "추가 : add(), update() <br>\n",
        "삭제 : remove(), discard(), pop(), clear()"
      ]
    },
    {
      "cell_type": "markdown",
      "metadata": {
        "id": "xHcFqzM0I6lD"
      },
      "source": [
        "<h2>딕셔너리</h2>\n",
        "\n",
        "---\n",
        "\n",
        "선언 : d =  {key:val} <br>\n",
        "순서 보장 : O <br>\n",
        "중복 허용 : X(key) <br>\n",
        "접근 : d[key], d.get(key) <br>\n",
        "수정 : O(value) <br>\n",
        "추가 : d[key] = val, update() <br>\n",
        "삭제 : pop(), popitem(), clear()"
      ]
    },
    {
      "cell_type": "markdown",
      "metadata": {
        "id": "Ul_twvRTJVZA"
      },
      "source": [
        "여러 값들을 순서대로 관리해야 한다? = 리스트 <br>\n",
        "값이 바뀔 일이 없거나, 바뀌면 안된다? = 튜플<br>\n",
        "값의 존재 여부가 중요하다? 중복은 안된다? = 세트 <br>\n",
        "key를 통해 효율적으로 데이터를 관리하고 싶다? = 딕셔너리"
      ]
    },
    {
      "cell_type": "markdown",
      "metadata": {
        "id": "eWnu0xrLb61I"
      },
      "source": [
        "# 자료형 변환"
      ]
    },
    {
      "cell_type": "markdown",
      "metadata": {
        "id": "uPI5bY0TQYkG"
      },
      "source": [
        "튜플을 수정하는 방법"
      ]
    },
    {
      "cell_type": "code",
      "execution_count": null,
      "metadata": {
        "id": "mkYP5emBQaoc"
      },
      "outputs": [],
      "source": [
        "my_tuple = ('오예스', '몽쉘')\n",
        "my_list = list(my_tuple)\n",
        "my_list.append('초코파이')\n",
        "my_tuple = tuple(my_list)"
      ]
    },
    {
      "cell_type": "markdown",
      "metadata": {
        "id": "4C1tRHZ5dNOM"
      },
      "source": [
        "### 리스트"
      ]
    },
    {
      "cell_type": "markdown",
      "metadata": {
        "id": "0PETWhZ5eDf5"
      },
      "source": [
        "리스트 -> 세트"
      ]
    },
    {
      "cell_type": "code",
      "execution_count": null,
      "metadata": {
        "id": "5eS5vriFdNpo"
      },
      "outputs": [],
      "source": [
        "my_list = ['오예스', '몽쉘', '초코파이', '초코파이', '초코파이']\n",
        "my_set = set(my_list)\n",
        "my_list = list(my_set)\n",
        "print(my_list)\n",
        "#출력을 하면 순서가 뒤죽박죽 섞일 수 있다."
      ]
    },
    {
      "cell_type": "markdown",
      "metadata": {
        "id": "x3MEnDIxeFwL"
      },
      "source": [
        "리스트 -> 딕셔너리"
      ]
    },
    {
      "cell_type": "code",
      "execution_count": null,
      "metadata": {
        "id": "cDYAGM-3d9H_"
      },
      "outputs": [],
      "source": [
        "my_list = ['오예스', '몽쉘', '초코파이', '초코파이', '초코파이']\n",
        "my_dic = dict.fromkeys(my_list)\n",
        "print(my_dic)#이때 value의 값은 None이다\n",
        "my_list = list(my_dic)\n",
        "print(my_dic)"
      ]
    },
    {
      "cell_type": "markdown",
      "metadata": {
        "id": "mmzlofjng2ip"
      },
      "source": [
        "# if문"
      ]
    },
    {
      "cell_type": "markdown",
      "metadata": {
        "id": "yxZP-YqqhPmz"
      },
      "source": [
        "### if 조건문"
      ]
    },
    {
      "cell_type": "markdown",
      "metadata": {
        "id": "ML0kdD54nZnw"
      },
      "source": [
        "#### if"
      ]
    },
    {
      "cell_type": "markdown",
      "metadata": {
        "id": "qBUpLK7yiXfR"
      },
      "source": [
        "if (만약 ~ 라면)<br>\n",
        "조건이 참(True)이면 이 문장 실행, 거짓(False)이면 다음 문장 살행"
      ]
    },
    {
      "cell_type": "markdown",
      "metadata": {
        "id": "hpuQQbY7i2Oc"
      },
      "source": [
        "반드시 들여쓰기를 해야한다"
      ]
    },
    {
      "cell_type": "markdown",
      "metadata": {
        "id": "IUHQuG17jqkJ"
      },
      "source": [
        "조건이 참일 때"
      ]
    },
    {
      "cell_type": "code",
      "execution_count": null,
      "metadata": {
        "id": "KQ4pWr-WjT2b"
      },
      "outputs": [],
      "source": [
        "today = '일요일'\n",
        "if today == '일요일':\n",
        "    print('게임한판')\n",
        "print('공부시작')"
      ]
    },
    {
      "cell_type": "markdown",
      "metadata": {
        "id": "sm52JVO9jv9p"
      },
      "source": [
        "조건이 거짓일 때"
      ]
    },
    {
      "cell_type": "code",
      "execution_count": null,
      "metadata": {
        "id": "Fsv1nrG4jv9p"
      },
      "outputs": [],
      "source": [
        "today = '화요일'\n",
        "if today == '일요일':\n",
        "    print('게임한판')\n",
        "print('공부시작')"
      ]
    },
    {
      "cell_type": "markdown",
      "metadata": {
        "id": "V83JnUnYns1R"
      },
      "source": [
        "#### if, else"
      ]
    },
    {
      "cell_type": "markdown",
      "metadata": {
        "id": "RHJ_K78Mnyg-"
      },
      "source": [
        "if, else<br>\n",
        "만약 ~ 라면, 그렇지 않다면"
      ]
    },
    {
      "cell_type": "markdown",
      "metadata": {
        "id": "Eb1_ZVGXoAjF"
      },
      "source": [
        "조건이 참일 때"
      ]
    },
    {
      "cell_type": "code",
      "execution_count": null,
      "metadata": {
        "id": "82T92Od7m24m"
      },
      "outputs": [],
      "source": [
        "today = '일요일'\n",
        "if today == '일요일':\n",
        "    print('게임한판')\n",
        "else:\n",
        "    print('폰 5분만')\n",
        "print('공부시작')"
      ]
    },
    {
      "cell_type": "markdown",
      "metadata": {
        "id": "wkWl5Kl2oAjG"
      },
      "source": [
        "조건이 거짓일 때"
      ]
    },
    {
      "cell_type": "code",
      "execution_count": null,
      "metadata": {
        "id": "QkjQEXZ2nQ33"
      },
      "outputs": [],
      "source": [
        "today = '화요일'\n",
        "if today == '일요일':\n",
        "    print('게임한판')\n",
        "else:\n",
        "    print('폰 5분만')\n",
        "print('공부시작')"
      ]
    },
    {
      "cell_type": "markdown",
      "metadata": {
        "id": "0qCZyspdoOXo"
      },
      "source": [
        "#### elif"
      ]
    },
    {
      "cell_type": "markdown",
      "metadata": {
        "id": "nA0dIeDHoRGW"
      },
      "source": [
        "if, elif, elif, elif, else<br>\n",
        "만약 ~ 라면<br>\n",
        "아니라고? 그럼 이건 어때?<br>\n",
        "아니라고? 그럼 이건 어때?<br>\n",
        "아니라고? 그럼 이건 어때?<br>\n",
        "그렇지 않다면\n",
        "\n",
        "\n",
        "---\n",
        "\n",
        "else는 선택사항이다"
      ]
    },
    {
      "cell_type": "markdown",
      "metadata": {
        "id": "j8WfECpVov4L"
      },
      "source": [
        "if 조건1 : <br>\n",
        "이 문장<br>\n",
        "elif 조건2 :<br>\n",
        "저 문장<br>\n",
        "else : <br>\n",
        "그 문장<br>\n",
        "다음 문장"
      ]
    },
    {
      "cell_type": "code",
      "execution_count": null,
      "metadata": {
        "id": "W4u91yIzos7_"
      },
      "outputs": [],
      "source": [
        "if today == '일요일':\n",
        "    print('게임 한 판')\n",
        "elif today == '토요일':\n",
        "    print('폰 5분만')\n",
        "else :\n",
        "    print('물 한잔')\n",
        "print('공부 시작')"
      ]
    },
    {
      "cell_type": "markdown",
      "metadata": {
        "id": "zaOrPNxahR_K"
      },
      "source": [
        "### if 중첩"
      ]
    },
    {
      "cell_type": "markdown",
      "metadata": {
        "id": "2-WI7eNAsIof"
      },
      "source": [
        "어떤 조건이 맞을 경우에 다른 조건을 확인할 수 있다."
      ]
    },
    {
      "cell_type": "code",
      "execution_count": null,
      "metadata": {
        "id": "t0ynuBSyrAj1"
      },
      "outputs": [],
      "source": [
        "yellow_card = 0\n",
        "foul = True\n",
        "if foul:\n",
        "    yellow_card += 1\n",
        "    if yellow_card == 2:\n",
        "        print('경고 누적 퇴장')\n",
        "    else:\n",
        "        print('휴..조심해야지')"
      ]
    },
    {
      "cell_type": "code",
      "execution_count": null,
      "metadata": {
        "id": "Oh2yVdhdr42z"
      },
      "outputs": [],
      "source": [
        "yellow_card = 0\n",
        "foul = False\n",
        "if foul:\n",
        "    yellow_card += 1\n",
        "    if yellow_card == 2:\n",
        "        print('경고 누적 퇴장')\n",
        "    else:\n",
        "        print('휴..조심해야지')\n",
        "else:\n",
        "    print('주의')"
      ]
    },
    {
      "cell_type": "markdown",
      "metadata": {
        "id": "TdfB7lJthC24"
      },
      "source": [
        "# for 반복문"
      ]
    },
    {
      "cell_type": "markdown",
      "metadata": {
        "id": "H4Dzj-0xsf4H"
      },
      "source": [
        "for 변수 in 반복 범위(range) 또는 대상(리스트, 튜플, 딕셔너리) :<br>\n",
        "    반복 수행 문자"
      ]
    },
    {
      "cell_type": "markdown",
      "metadata": {
        "id": "gL3as2TQOdu9"
      },
      "source": [
        "반복 범위(range)"
      ]
    },
    {
      "cell_type": "code",
      "execution_count": null,
      "metadata": {
        "id": "SgZ9Ez1DssXy"
      },
      "outputs": [],
      "source": [
        "for x in range(10):\n",
        "    print('팔 벌려 뛰기 해')"
      ]
    },
    {
      "cell_type": "code",
      "execution_count": null,
      "metadata": {
        "id": "MGp2EN5js6-R"
      },
      "outputs": [],
      "source": [
        "for x in range(10):\n",
        "    print(f'팔 벌려 뛰기 {x}회')"
      ]
    },
    {
      "cell_type": "markdown",
      "metadata": {
        "id": "DCipYkqQOhdv"
      },
      "source": [
        "대상(리스트, 튜플, 딕셔너리)"
      ]
    },
    {
      "cell_type": "markdown",
      "metadata": {
        "id": "LLX7UaRBO_W6"
      },
      "source": [
        "리스트"
      ]
    },
    {
      "cell_type": "code",
      "execution_count": null,
      "metadata": {
        "id": "N9HH0sYuOc3f"
      },
      "outputs": [],
      "source": [
        "my_list = [1,2,3]\n",
        "for x in my_list:\n",
        "    print(x)"
      ]
    },
    {
      "cell_type": "markdown",
      "metadata": {
        "id": "81dap6mqPBDG"
      },
      "source": [
        "튜플"
      ]
    },
    {
      "cell_type": "code",
      "execution_count": null,
      "metadata": {
        "id": "lhTJkqb7OxvW"
      },
      "outputs": [],
      "source": [
        "my_tuple = (1,2,3)\n",
        "for x in my_tuple:\n",
        "    print(x)"
      ]
    },
    {
      "cell_type": "markdown",
      "metadata": {
        "id": "RdzjCtO3QBOu"
      },
      "source": [
        "문자열"
      ]
    },
    {
      "cell_type": "code",
      "execution_count": null,
      "metadata": {
        "id": "CYWwoIiiQD5-"
      },
      "outputs": [],
      "source": [
        "fruit = 'apple'\n",
        "for x in fruit:\n",
        "    print(x)"
      ]
    },
    {
      "cell_type": "markdown",
      "metadata": {
        "id": "qfW2t_YgPClN"
      },
      "source": [
        "###딕셔너리"
      ]
    },
    {
      "cell_type": "markdown",
      "metadata": {
        "id": "3uyhL0x_PTWM"
      },
      "source": [
        "values"
      ]
    },
    {
      "cell_type": "code",
      "execution_count": null,
      "metadata": {
        "id": "HrzCYni1Oye3"
      },
      "outputs": [],
      "source": [
        "person = {'이름':'나귀욤', '나이':7, '키':120, '몸무게':23}\n",
        "for v in person.values():\n",
        "    print(v)"
      ]
    },
    {
      "cell_type": "markdown",
      "metadata": {
        "id": "4DqVZ_jdPU1U"
      },
      "source": [
        "keys"
      ]
    },
    {
      "cell_type": "code",
      "execution_count": null,
      "metadata": {
        "id": "pAepeFeQPV6A"
      },
      "outputs": [],
      "source": [
        "person = {'이름':'나귀욤', '나이':7, '키':120, '몸무게':23}\n",
        "for k in person.keys():\n",
        "    print(k)"
      ]
    },
    {
      "cell_type": "markdown",
      "metadata": {
        "id": "uW7PvaGuPzOJ"
      },
      "source": [
        "items"
      ]
    },
    {
      "cell_type": "code",
      "execution_count": null,
      "metadata": {
        "id": "VfxjUKCrP0lp"
      },
      "outputs": [],
      "source": [
        "person = {'이름':'나귀욤', '나이':7, '키':120, '몸무게':23}\n",
        "for k, v in person.items():\n",
        "    print(k, v)"
      ]
    },
    {
      "cell_type": "markdown",
      "metadata": {
        "id": "X-4M8ZW_hDVF"
      },
      "source": [
        "# range"
      ]
    },
    {
      "cell_type": "markdown",
      "metadata": {
        "id": "Pl9O05u6tCqA"
      },
      "source": [
        "범위 내에 숫자들을 만들어주는 기능"
      ]
    },
    {
      "cell_type": "markdown",
      "metadata": {
        "id": "mMhwLtc2tUd-"
      },
      "source": [
        "range(stop)<br>\n",
        "0 이상 stop 미만"
      ]
    },
    {
      "cell_type": "code",
      "execution_count": null,
      "metadata": {
        "id": "4TRQlmkrtdJ_"
      },
      "outputs": [],
      "source": [
        "for x in range(10):\n",
        "    print(x)"
      ]
    },
    {
      "cell_type": "markdown",
      "metadata": {
        "id": "DmmwLUIDtnIj"
      },
      "source": [
        "range(start, stop)<br>\n",
        "start 이상 stop 미만"
      ]
    },
    {
      "cell_type": "code",
      "execution_count": null,
      "metadata": {
        "id": "8L0gYdDdtnIk"
      },
      "outputs": [],
      "source": [
        "for x in range(1, 10):\n",
        "    print(x)"
      ]
    },
    {
      "cell_type": "markdown",
      "metadata": {
        "id": "_kSpyJmCtzKS"
      },
      "source": [
        "range(star, stop, step)<br>\n",
        "start 이상 stop 미만 step 만큼 증가"
      ]
    },
    {
      "cell_type": "code",
      "execution_count": null,
      "metadata": {
        "id": "FO8nQDmOtzKS"
      },
      "outputs": [],
      "source": [
        "for x in range(1, 10, 2):\n",
        "    print(x)"
      ]
    },
    {
      "cell_type": "markdown",
      "metadata": {
        "id": "7hG7W0lShEVy"
      },
      "source": [
        "# while"
      ]
    },
    {
      "cell_type": "markdown",
      "metadata": {
        "id": "weHQ2NoMQaf5"
      },
      "source": [
        "~ 하는 동안"
      ]
    },
    {
      "cell_type": "markdown",
      "metadata": {
        "id": "UiddGvZuQhhC"
      },
      "source": [
        "for : 정해진 범위 또는 데이터를 순회하며 반복하는 것<br>\n",
        "while : 조건이 참인 동안 계속해서 반복되는 것"
      ]
    },
    {
      "cell_type": "code",
      "execution_count": null,
      "metadata": {
        "id": "DhjsNXP-Q7_C"
      },
      "outputs": [],
      "source": [
        "max = 25 # 최대 허용 무게\n",
        "weight = 0 # 현재 캐리어 무게\n",
        "item = 3 # 각 짐의 무게\n",
        "\n",
        "while weight + item <= max: # 캐리어에 짐을 더 넣어도 되는지 확인\n",
        "    weight += item\n",
        "    print('짐을 추가합니다')\n",
        "print(f'총 무게는 {weight} 입니다')"
      ]
    },
    {
      "cell_type": "markdown",
      "metadata": {
        "id": "4vlZdMWQhFXE"
      },
      "source": [
        "# break"
      ]
    },
    {
      "cell_type": "markdown",
      "metadata": {
        "id": "sK6wmGRPR08n"
      },
      "source": [
        "반복문 탈출"
      ]
    },
    {
      "cell_type": "code",
      "execution_count": null,
      "metadata": {
        "id": "0BiHJ7vLR4NT"
      },
      "outputs": [],
      "source": [
        "drama = ['시즌1', '시즌2', '시즌3', '시즌4', '시즌5']\n",
        "for x in drama:\n",
        "    if x == '시즌3':\n",
        "        print('재미 없대, 그만 보자')\n",
        "        break\n",
        "    print(f'{x} 시청')"
      ]
    },
    {
      "cell_type": "markdown",
      "metadata": {
        "id": "oeWsjq2whHoK"
      },
      "source": [
        "# continue"
      ]
    },
    {
      "cell_type": "markdown",
      "metadata": {
        "id": "nZTEeQRcSklz"
      },
      "source": [
        "어떤 경우에 동작을 건너뛰고 싶을 때 사용"
      ]
    },
    {
      "cell_type": "code",
      "execution_count": null,
      "metadata": {
        "id": "9pUCOBU-Sj0f"
      },
      "outputs": [],
      "source": [
        "drama = ['시즌1', '시즌2', '시즌3', '시즌4', '시즌5']\n",
        "for x in drama:\n",
        "    if x == '시즌3':\n",
        "        print('재미 없대, 그만 보자')\n",
        "        continue\n",
        "    print(f'{x} 시청')"
      ]
    },
    {
      "cell_type": "markdown",
      "metadata": {
        "id": "fi4FwIbNhIG8"
      },
      "source": [
        "# 들여쓰기"
      ]
    },
    {
      "cell_type": "markdown",
      "metadata": {
        "id": "h0i7-uWuUKp0"
      },
      "source": [
        "파이썬에서 들여쓰기는 굉장히 중요한 역할을 한다."
      ]
    },
    {
      "cell_type": "markdown",
      "metadata": {
        "id": "nuG4JoDRUQgX"
      },
      "source": [
        "if 조건문:<br>\n",
        "for 반복문:<br>\n",
        "while 반복문:<br>\n",
        "def 함수: <br>\n",
        "try 예외:<br>\n",
        "class 클래스:<br>\n",
        "(들여쓰기)다음문장<br>\n",
        "<br>\n",
        "반드시 들여쓰기를 넣어야 한다."
      ]
    },
    {
      "cell_type": "markdown",
      "metadata": {
        "id": "0JU2AhIDhImd"
      },
      "source": [
        "# 리스트 컴프리헨션"
      ]
    },
    {
      "cell_type": "code",
      "execution_count": null,
      "metadata": {
        "id": "E_Fffvlqf39y"
      },
      "outputs": [],
      "source": [
        "products = ['JOA-2020', 'JOA-2021', 'SIRO-2021', 'SIRO-2022']\n",
        "recall = [] # 리콜 대상 제품 리스트\n",
        "for p in products:\n",
        "    if p.startswith('SIRO'): # 제품명이 SIRO로 시작하는가?\n",
        "        recall.append(p)\n",
        "print(recall)"
      ]
    },
    {
      "cell_type": "code",
      "execution_count": null,
      "metadata": {
        "id": "fY3EUxmOiASk"
      },
      "outputs": [],
      "source": [
        "products = ['JOA-2020', 'JOA-2021', 'SIRO-2021', 'SIRO-2022']\n",
        "recall = [p for p in products if p.startswith('SIRO')]\n",
        "\n",
        "print(recall)"
      ]
    },
    {
      "cell_type": "markdown",
      "metadata": {
        "id": "mr0ZFSlUg64L"
      },
      "source": [
        "List Comprehension<br>\n",
        "새로운 리스트를 간편하게<br>\n",
        "<br>\n",
        "리스트내에서 어떤 조건에 해당하는 데이터를 뽑아내거나 <br>\n",
        "값을 바꿔서 새로운 리스트를 만들때 사용 "
      ]
    },
    {
      "cell_type": "markdown",
      "metadata": {
        "id": "OXPn6CHuhU1q"
      },
      "source": [
        "new_list = [ 변수 활용 for 변수 in 반복대상 if 조건 ]"
      ]
    },
    {
      "cell_type": "code",
      "execution_count": null,
      "metadata": {
        "id": "rGb7O2gHhTW-"
      },
      "outputs": [],
      "source": [
        "my_list = [1,2,3,4,5]\n",
        "new_list = [x for x in my_list if x > 3]\n",
        "\n",
        "print(new_list)"
      ]
    },
    {
      "cell_type": "markdown",
      "metadata": {
        "id": "7YIQWW0ShI94"
      },
      "source": [
        "# 함수"
      ]
    },
    {
      "cell_type": "markdown",
      "metadata": {
        "id": "gcnK0KCGi4iy"
      },
      "source": [
        "어떤 동작을 수행하는 코드들의 묶음<br>\n",
        "여러 곳에서 사용되는 코드는 하나의 함수로 만들면 편리"
      ]
    },
    {
      "cell_type": "markdown",
      "metadata": {
        "id": "kz8zxkcyj3Ta"
      },
      "source": [
        "호출이 없다면 사용 불가"
      ]
    },
    {
      "cell_type": "code",
      "execution_count": null,
      "metadata": {
        "id": "QEd_BHQ0it2g"
      },
      "outputs": [],
      "source": [
        "def show_price(): # 함수 정의\n",
        "    print('감성 커드 가격은 15000 원입니다')\n",
        "\n",
        "customer1 = '나장발'\n",
        "print(f'{customer1} 고객님')\n",
        "show_price() # 함수 호출\n",
        "\n",
        "customer2 = '나수염'\n",
        "print(f'{customer2} 고객님')\n",
        "show_price() # 함수 호출"
      ]
    },
    {
      "cell_type": "markdown",
      "metadata": {
        "id": "hrVGqLCQkFil"
      },
      "source": [
        "수정을 할 때 함수만 수정하면 된다."
      ]
    },
    {
      "cell_type": "markdown",
      "metadata": {
        "id": "90E_Cx9Who90"
      },
      "source": [
        "# 전달값"
      ]
    },
    {
      "cell_type": "markdown",
      "metadata": {
        "id": "m5YSZcjok0Ax"
      },
      "source": [
        "1. 여러 개 사용 가능 (콤마로 구분)\n",
        "2. 함수 내에서만 사용"
      ]
    },
    {
      "cell_type": "code",
      "execution_count": null,
      "metadata": {
        "id": "T8Nq2ERFkThD"
      },
      "outputs": [],
      "source": [
        "def show_price(customer): # 함수 정의\n",
        "    print(f'사랑하는 {customer} 고객님')\n",
        "    print('감성 커드 가격은 15000 원입니다')\n",
        "\n",
        "customer1 = '나장발'\n",
        "show_price(customer1) # 함수 호출\n",
        "\n",
        "customer2 = '나수염'\n",
        "show_price(customer2) # 함수 호출"
      ]
    },
    {
      "cell_type": "markdown",
      "metadata": {
        "id": "uD96Hi-zhs7Q"
      },
      "source": [
        "# 반환값"
      ]
    },
    {
      "cell_type": "markdown",
      "metadata": {
        "id": "pVfVtLPblIcD"
      },
      "source": [
        "함수 내에서 처리된 결과를 반환"
      ]
    },
    {
      "cell_type": "code",
      "execution_count": null,
      "metadata": {
        "id": "VZK4jpfelMWo"
      },
      "outputs": [],
      "source": [
        "def get_price(is_vip): # True : 단골 손님, False : 일반 손님\n",
        "    if is_vip == True:\n",
        "        return 10000 # 단골 손님\n",
        "    else:\n",
        "        return 15000 # 일반 손님\n",
        "\n",
        "price = get_price(True) # 함수 호출\n",
        "print(f'커트 가격은 {price} 원입니다') # 10000\n",
        "\n",
        "price = get_price(False) # 함수 호출\n",
        "print(f'커트 가격은 {price} 원입니다') # 15000"
      ]
    },
    {
      "cell_type": "markdown",
      "metadata": {
        "id": "aPNiuG6_mP9q"
      },
      "source": [
        "1. 여러 개 반환 가능 (콤마로 구분, 튜플)\n",
        "2. 반환되는 즉시 함수 탈출"
      ]
    },
    {
      "cell_type": "markdown",
      "metadata": {
        "id": "UDJbBB0jhs_l"
      },
      "source": [
        "# 기본값"
      ]
    },
    {
      "cell_type": "markdown",
      "metadata": {
        "id": "S70i7w2vmr8C"
      },
      "source": [
        "전달값에 기본으로 사용되는 값"
      ]
    },
    {
      "cell_type": "code",
      "execution_count": null,
      "metadata": {
        "id": "RZSoBQ02m32H"
      },
      "outputs": [],
      "source": [
        "def get_price(is_vip=False): # True : 단골 손님, False : 일반 손님\n",
        "    if is_vip == True:\n",
        "        return 10000 # 단골 손님\n",
        "    else:\n",
        "        return 15000 # 일반 손님\n",
        "\n",
        "price1 = get_price(True) # 단골 손님\n",
        "price2 = get_price() # 일반 손님"
      ]
    },
    {
      "cell_type": "markdown",
      "metadata": {
        "id": "E4i-oNmehtG0"
      },
      "source": [
        "# 키워드값"
      ]
    },
    {
      "cell_type": "markdown",
      "metadata": {
        "id": "c661OxQMu01e"
      },
      "source": [
        "전달값의 대상을 딱 정해주는 것"
      ]
    },
    {
      "cell_type": "code",
      "execution_count": null,
      "metadata": {
        "id": "22bnFaQFu6Bc"
      },
      "outputs": [],
      "source": [
        "def get_price(is_vip = False,\n",
        "              is_birthday = False,\n",
        "              is_membership = False,\n",
        "              card = False,\n",
        "              review = False,\n",
        "              first_time = False)\n",
        "#review라는 전달값만 True로 하고 나머지는 그냥 두고 싶다면"
      ]
    },
    {
      "cell_type": "code",
      "execution_count": null,
      "metadata": {
        "id": "g6_ycNauvZ4Q"
      },
      "outputs": [],
      "source": [
        "price = get_price(review = True) #로 사용 가능"
      ]
    },
    {
      "cell_type": "markdown",
      "metadata": {
        "id": "dqLk0UeUhtKf"
      },
      "source": [
        "# 가변인자"
      ]
    },
    {
      "cell_type": "markdown",
      "metadata": {
        "id": "tqz4tdXewBEv"
      },
      "source": [
        "개수가 바뀔 수 있는 인자"
      ]
    },
    {
      "cell_type": "markdown",
      "metadata": {
        "id": "A3YX4tZQwHtV"
      },
      "source": [
        "사용방법 : *전달값"
      ]
    },
    {
      "cell_type": "code",
      "execution_count": null,
      "metadata": {
        "id": "BUM5-jvRwMs2"
      },
      "outputs": [],
      "source": [
        "def visit(today, *customers):\n",
        "    print(today)\n",
        "    for customer in customers:\n",
        "        print(customer) # 고객 이름 출력\n",
        "\n",
        "visit('2022년 6월 10일', '나장발') # 1명 방문\n",
        "visit('2022년 6월 10일', '나장발', '나수염') # 2명 방문\n",
        "visit('2022년 6월 10일', '나장발', '나수염', '나김리') # 3명 방문"
      ]
    },
    {
      "cell_type": "markdown",
      "metadata": {
        "id": "MIFtB-L9w4AN"
      },
      "source": [
        "전달값이 많으면 마지막에 한 번만 사용"
      ]
    },
    {
      "cell_type": "markdown",
      "metadata": {
        "id": "2cjW3sYvhtOe"
      },
      "source": [
        "# 지역변수"
      ]
    },
    {
      "cell_type": "markdown",
      "metadata": {
        "id": "cJh4HN9jxIaQ"
      },
      "source": [
        "함수 내에서 정의된 변수<br>\n",
        "함수 내에서만 사용 가능"
      ]
    },
    {
      "cell_type": "code",
      "execution_count": null,
      "metadata": {
        "id": "5WsZ1gjzxIMs"
      },
      "outputs": [],
      "source": [
        "def secret():\n",
        "    message = '이건 나만의 비밀' # secret 함수 내에서 정의\n",
        "    print(message) # 값 출력 가능\n",
        "    message = '함수 내에서는 자유롭게 수정 가능'\n",
        "\n",
        "def please():\n",
        "    print(message) # 불가능\n",
        "\n",
        "print(message) # 불가능"
      ]
    },
    {
      "cell_type": "markdown",
      "metadata": {
        "id": "VpnqexW6x9wQ"
      },
      "source": [
        "서로 다른 함수에서 같은 이름의 지역 변수를 선언할 수 있으며, 이 때 두 변수는 서로 관련이 없다."
      ]
    },
    {
      "cell_type": "markdown",
      "metadata": {
        "id": "GmS9DdC4htSH"
      },
      "source": [
        "# 전역변수"
      ]
    },
    {
      "cell_type": "markdown",
      "metadata": {
        "id": "59pvqVr9gV24"
      },
      "source": [
        "어디서든 사용할 수 있다."
      ]
    },
    {
      "cell_type": "markdown",
      "metadata": {
        "id": "kWF2JPRYgb08"
      },
      "source": [
        "함수 밖에서 만들면 어디서든 사용 가능"
      ]
    },
    {
      "cell_type": "code",
      "execution_count": null,
      "metadata": {
        "id": "UgrcGhKzgbc-"
      },
      "outputs": [],
      "source": [
        "message = '나는야 전역 변수'\n",
        "\n",
        "print(message) # 나는야 전역 변수\n",
        "\n",
        "def no_secret():\n",
        "    global message # 전역 변수 사용하겠음. 없으면 여기서 만들겠음.\n",
        "    message = '오 진짜 전역 변수!!'\n",
        "\n",
        "no_secret()\n",
        "print(message) # 오 진짜 전역 변수!!"
      ]
    },
    {
      "cell_type": "markdown",
      "metadata": {
        "id": "CtPAbpQ9htVg"
      },
      "source": [
        "# 사용자입력"
      ]
    },
    {
      "cell_type": "markdown",
      "metadata": {
        "id": "MpRYEKBNhsF8"
      },
      "source": [
        "input() 사용자 입력을 받을 수 있다."
      ]
    },
    {
      "cell_type": "markdown",
      "metadata": {
        "id": "RyWpcc5Ziovu"
      },
      "source": [
        "input()으로 받은 사용자 입력은 **문자열 형태**이다."
      ]
    },
    {
      "cell_type": "code",
      "execution_count": null,
      "metadata": {
        "id": "8W9ZIJhrhyPt"
      },
      "outputs": [],
      "source": [
        "name = input('예약자분 성함이 어떻게 되나요?')\n",
        "print(name)"
      ]
    },
    {
      "cell_type": "code",
      "execution_count": null,
      "metadata": {
        "id": "xrdbbTTZiEF6"
      },
      "outputs": [],
      "source": [
        "num = input('총 몇 분이세요?')\n",
        "if num > 4:\n",
        "    print('죄송하지만 저희 식당은 최대 4분 까지만 예약 가능합니다')"
      ]
    },
    {
      "cell_type": "markdown",
      "metadata": {
        "id": "Y1gqsFEgibMT"
      },
      "source": [
        "4는 int인데 입력받은 num은 str이라서 비교 X"
      ]
    },
    {
      "cell_type": "code",
      "execution_count": null,
      "metadata": {
        "id": "cyOrvgRYilZd"
      },
      "outputs": [],
      "source": [
        "num = int(input('총 몇 분이세요?'))\n",
        "if num > 4:\n",
        "    print('죄송하지만 저희 식당은 최대 4분 까지만 예약 가능합니다')"
      ]
    },
    {
      "cell_type": "markdown",
      "metadata": {
        "id": "xvG-MOr2htZJ"
      },
      "source": [
        "# 파일입출력"
      ]
    },
    {
      "cell_type": "markdown",
      "metadata": {
        "id": "3GiVtuhwjOgi"
      },
      "source": [
        "<파일 쓰기><br>\n",
        "open(파일명, 열기 모드, encoding = '인코딩')"
      ]
    },
    {
      "cell_type": "markdown",
      "metadata": {
        "id": "ZA0srIkJjVW7"
      },
      "source": [
        "<열기 모드><br>\n",
        "r : read (읽기)<br>\n",
        "a : append (이어서 쓰기)<br>\n",
        "w : write (쓰기)"
      ]
    },
    {
      "cell_type": "code",
      "execution_count": null,
      "metadata": {
        "id": "zZCOq9oFjyWy"
      },
      "outputs": [],
      "source": [
        "f = open('list.txt', 'w', encoding='utf8') # 쓰기 모드로 파일 열기\n",
        "f.write('김xx\\n') # 문장 입력하기\n",
        "f.write('정xx\\n') # 문장 입력하기\n",
        "f.write('허xx\\n') # 문장 입력하기\n",
        "f.close() # 파일 닫기"
      ]
    },
    {
      "cell_type": "markdown",
      "metadata": {
        "id": "v-bWSXp2kF4T"
      },
      "source": [
        "파일을 열었으면 반드시 닫아야한다."
      ]
    },
    {
      "cell_type": "code",
      "execution_count": null,
      "metadata": {
        "id": "c9WWgFU7kbID"
      },
      "outputs": [],
      "source": [
        "f = open('list.txt', 'r', encoding='utf8') # 읽기 모드로 파일 열기\n",
        "contents = f.read()\n",
        "print(contents)\n",
        "\n",
        "f.close() # 파일 닫기"
      ]
    },
    {
      "cell_type": "markdown",
      "metadata": {
        "id": "BWYnllbgktTP"
      },
      "source": [
        "한 줄씩 읽기"
      ]
    },
    {
      "cell_type": "code",
      "execution_count": null,
      "metadata": {
        "id": "4XL6liROkwrQ"
      },
      "outputs": [],
      "source": [
        "f = open('list.txt', 'r', encoding='utf8') # 읽기 모드로 파일 열기\n",
        "for line in f:\n",
        "    print(line, end='')\n",
        "    \n",
        "f.close() # 파일 닫기"
      ]
    },
    {
      "cell_type": "markdown",
      "metadata": {
        "id": "NJrleffjiA8q"
      },
      "source": [
        "# with"
      ]
    },
    {
      "cell_type": "markdown",
      "metadata": {
        "id": "zzQJH9LflaB-"
      },
      "source": [
        "블럭 벗어나면 자동으로 파일 닫음"
      ]
    },
    {
      "cell_type": "markdown",
      "metadata": {
        "id": "ubFO4txAlQi9"
      },
      "source": [
        "파일을 열었다면 반드시 닫아야 한다."
      ]
    },
    {
      "cell_type": "code",
      "execution_count": null,
      "metadata": {
        "id": "X_on87Q5ljU0"
      },
      "outputs": [],
      "source": [
        "with open('list.txt', 'w', encoding='utf8') as f:\n",
        "    f.write('김xx\\n')\n",
        "    f.write('정xx\\n')\n",
        "    f.write('허xx\\n') "
      ]
    },
    {
      "cell_type": "code",
      "execution_count": null,
      "metadata": {
        "id": "UxdwtJ86l9n0"
      },
      "outputs": [],
      "source": [
        "with open('list.txt', 'r', encoding='utf8') as f:\n",
        "    contents = f.read()\n",
        "    print(contents)"
      ]
    },
    {
      "cell_type": "markdown",
      "metadata": {
        "id": "lYH-_hsMc8Mb"
      },
      "source": [
        "# 클래스"
      ]
    },
    {
      "cell_type": "code",
      "execution_count": null,
      "metadata": {
        "id": "3OcYlgGXi7ZF"
      },
      "outputs": [],
      "source": [
        "class 클래스명:\n",
        "    정의"
      ]
    },
    {
      "cell_type": "markdown",
      "metadata": {
        "id": "A1X7WX1IdqyY"
      },
      "source": [
        "여러 변수들 포함 가능<br>\n",
        "기능 정의 가능"
      ]
    },
    {
      "cell_type": "markdown",
      "metadata": {
        "id": "rw55S0r1fCYG"
      },
      "source": [
        "A **클래스**로부터 만들어진 **객체** B가 있다고 할 때, B는 A의 **인스턴스**라고 표현한다"
      ]
    },
    {
      "cell_type": "markdown",
      "metadata": {
        "id": "WjscU2ElgRzR"
      },
      "source": [
        "### 클래스 정의"
      ]
    },
    {
      "cell_type": "code",
      "execution_count": 2,
      "metadata": {
        "id": "frDT2ELHffvp"
      },
      "outputs": [
        {
          "name": "stdout",
          "output_type": "stream",
          "text": [
            "까망이\n",
            "True\n"
          ]
        }
      ],
      "source": [
        "class BlackBox:\n",
        "    pass\n",
        "\n",
        "b1 = BlackBox() # b1 객체 생성 완료\n",
        "b1.name = '까망이' # 변수 선언\n",
        "print(b1.name)\n",
        "print(isinstance(b1, BlackBox))"
      ]
    },
    {
      "cell_type": "markdown",
      "metadata": {
        "id": "JpIGpFlYfjPr"
      },
      "source": [
        "클래스명은 대문자로 시작하는 단어들의 조합으로 만들면 된다."
      ]
    },
    {
      "cell_type": "markdown",
      "metadata": {
        "id": "KyG8rK3Gf0rG"
      },
      "source": [
        "클래스를 사용하기 위해서는 객체가 필요하다."
      ]
    },
    {
      "cell_type": "markdown",
      "metadata": {
        "id": "LVsjEBp9c_iI"
      },
      "source": [
        "## _ _ init _ _"
      ]
    },
    {
      "cell_type": "markdown",
      "metadata": {
        "id": "UpDt6VXJgw8F"
      },
      "source": [
        "클래스에 내용을 넣을 때 _ _ init _ _ 함수를 사용"
      ]
    },
    {
      "cell_type": "markdown",
      "metadata": {
        "id": "6uy8IW9fhdFy"
      },
      "source": [
        "객체가 생성될 때 자동으로 실행된다."
      ]
    },
    {
      "cell_type": "code",
      "execution_count": null,
      "metadata": {
        "id": "RWhp3ZQpgv3R"
      },
      "outputs": [],
      "source": [
        "class BlackBox:\n",
        "    def __init__(self, name, price):\n",
        "        self.name = name\n",
        "        self.price = price\n",
        "\n",
        "b1 = BlackBox('까망이', 200000)\n",
        "print(b1.name, b1.price)\n",
        "\n",
        "b2 = BlackBox('하양이', 100000)\n",
        "print(b2.name, b2.price)"
      ]
    },
    {
      "cell_type": "markdown",
      "metadata": {
        "id": "e_qczCdic_nJ"
      },
      "source": [
        "## 멤버변수"
      ]
    },
    {
      "cell_type": "markdown",
      "metadata": {
        "id": "D5_dzI20iM5g"
      },
      "source": [
        "클래스 객체마다 서로 다른 값을 가질 수 있다."
      ]
    },
    {
      "cell_type": "code",
      "execution_count": null,
      "metadata": {
        "id": "XU_dxUv0iC0Z"
      },
      "outputs": [],
      "source": [
        "class BlackBox:\n",
        "    def __init__(self, name, price):\n",
        "        self.name = name # 멤버변수\n",
        "        self.price = price # 멤버변수"
      ]
    },
    {
      "cell_type": "markdown",
      "metadata": {
        "id": "yCq_MrTSdAAl"
      },
      "source": [
        "## 메소드"
      ]
    },
    {
      "cell_type": "markdown",
      "metadata": {
        "id": "HPk9M0FTiv-n"
      },
      "source": [
        "클래스 내에 선언되는 함수를 **메소드**라고 한다."
      ]
    },
    {
      "cell_type": "code",
      "execution_count": null,
      "metadata": {
        "id": "w7MIF_J9jMu4"
      },
      "outputs": [],
      "source": [
        "class BlackBox:\n",
        "    def __init__(self, name, price):\n",
        "        self.name = name \n",
        "        self.price = price \n",
        "\n",
        "    def set_travel_mode(self, min): # 여행 모드 시간 (분)\n",
        "        print(str(min) + '분 동안 여행 모드 ON')\n",
        "\n",
        "#b1 = BlackBox('까망이', 200000)\n",
        "#b1.set_travel_mode()\n",
        "\n",
        "b1 = BlackBox('까망이', 200000)\n",
        "b1.set_travel_mode(20)"
      ]
    },
    {
      "cell_type": "markdown",
      "metadata": {
        "id": "l-KbC7eadAg7"
      },
      "source": [
        "## self"
      ]
    },
    {
      "cell_type": "markdown",
      "metadata": {
        "id": "5YxUWir0kQ4_"
      },
      "source": [
        "self란 '객체 자기 자신'을 의미"
      ]
    },
    {
      "cell_type": "markdown",
      "metadata": {
        "id": "M1zH6sLKkpzX"
      },
      "source": [
        "1. 메소드를 정의할 때 처음 전달값은 반드시 self\n",
        "2. 메소드 내에서는 self.name과 같은 형태로 멤버변수를 사용"
      ]
    },
    {
      "cell_type": "code",
      "execution_count": null,
      "metadata": {
        "id": "Ooqsa047kYb-"
      },
      "outputs": [],
      "source": [
        "class BlackBox:\n",
        "    def __init__(self, name, price):\n",
        "        self.name = name \n",
        "        self.price = price \n",
        "\n",
        "    def set_travel_mode(self, min): # 여행 모드 시간 (분)\n",
        "        #print(str(min) + '분 동안 여행 모드 ON') \n",
        "        print(f'{self.name} {min}분 동안 여행 모드 ON')\n",
        "\n",
        "b1 = BlackBox('까망이', 200000)\n",
        "b2 = BlackBox('하양이', 200000)\n",
        "\n",
        "b1.set_travel_mode(20)\n",
        "b2.set_travel_mode(10)\n",
        "\n",
        "BlackBox.set_travel_mode(b1, 20)\n",
        "BlackBox.set_travel_mode(b2, 10)\n",
        "\n",
        "# 같은 코드"
      ]
    },
    {
      "cell_type": "markdown",
      "metadata": {
        "id": "KZJvZi1edAj1"
      },
      "source": [
        "## 상속"
      ]
    },
    {
      "cell_type": "markdown",
      "metadata": {
        "id": "70hhzTwpmcet"
      },
      "source": [
        "어떤 클래스에서 사용한 코드를 그대로 물려받아서 사용하고 거기다가 추가로 필요한 내용을 확장하는 개념으로 쓰일 수 있다."
      ]
    },
    {
      "cell_type": "code",
      "execution_count": null,
      "metadata": {
        "id": "_cNfeO2ZmMVi"
      },
      "outputs": [],
      "source": [
        "class BlackBox: # 부모클래스\n",
        "    def __init__(self, name, price):\n",
        "        self.name = name \n",
        "        self.price = price \n",
        "\n",
        "class TravelBlackBox(BlackBox): # 자식클래스\n",
        "    def set_travel_mode(self, min):\n",
        "        print(str(min) + '분 동안 여행 모드 ON') \n",
        "\n",
        "b1 = BlackBox('까망이', 200000)\n",
        "b2 = TravelBlackBox('하양이', 100000)"
      ]
    },
    {
      "cell_type": "markdown",
      "metadata": {
        "id": "Z0fASOE1nLqq"
      },
      "source": [
        "사용법은 동일"
      ]
    },
    {
      "cell_type": "markdown",
      "metadata": {
        "id": "DDOTouJFdAmV"
      },
      "source": [
        "## super"
      ]
    },
    {
      "cell_type": "markdown",
      "metadata": {
        "id": "Mglki4aviWJp"
      },
      "source": [
        "super()은 부모 클래스를 의미<br>\n",
        "self는 필요 없음"
      ]
    },
    {
      "cell_type": "code",
      "execution_count": null,
      "metadata": {
        "id": "-eOExxE0iEey"
      },
      "outputs": [],
      "source": [
        "class BlackBox: # 부모클래스\n",
        "    def __init__(self, name, price):\n",
        "        self.name = name \n",
        "        self.price = price \n",
        "\n",
        "class TravelBlackBox(BlackBox): # 자식클래스\n",
        "    def __init__(self, name, price, sd):\n",
        "        super().__init__(name, price)\n",
        "        self.sd = sd\n",
        "\n",
        "    def set_travel_mode(self, min):\n",
        "        print(str(min) + '분 동안 여행 모드 ON') "
      ]
    },
    {
      "cell_type": "markdown",
      "metadata": {
        "id": "4Q-pLCHvdAoj"
      },
      "source": [
        "## 다중상속"
      ]
    },
    {
      "cell_type": "markdown",
      "metadata": {
        "id": "H3X35R85jC_I"
      },
      "source": [
        "여러 클래스로부터 상속을 받는 것"
      ]
    },
    {
      "cell_type": "code",
      "execution_count": null,
      "metadata": {
        "id": "_AZv_TEUi_C0"
      },
      "outputs": [],
      "source": [
        "class BlackBox: # 부모클래스\n",
        "    def __init__(self, name, price):\n",
        "        self.name = name \n",
        "        self.price = price \n",
        "\n",
        "class VideoMaker:\n",
        "    def make(self):\n",
        "        print('추억용 여행 영상 제작')\n",
        "    \n",
        "class MailSender:\n",
        "    def send(self):\n",
        "        print('메일 발송')\n",
        "\n",
        "class TravelBlackBox(BlackBox, VideoMaker, MailSender): # 자식클래스\n",
        "    def __init__(self, name, price, sd):\n",
        "        super().__init__(name, price)\n",
        "        self.sd = sd\n",
        "    def set_travel_mode(self, min):\n",
        "        print(str(min) + '분 동안 여행 모드 ON') \n",
        "\n",
        "b1 = TravelBlackBox('하양이', 100000, 64) # name, price, sd\n",
        "b1.make()\n",
        "b1.send()"
      ]
    },
    {
      "cell_type": "markdown",
      "metadata": {
        "id": "Ut6_rBG_dAq4"
      },
      "source": [
        "## 메소드 오버라이딩"
      ]
    },
    {
      "cell_type": "markdown",
      "metadata": {
        "id": "pIEbkOl3kcWf"
      },
      "source": [
        "자식 클래스에서 같은 메소드를 새로 정의하지 않으면?\n",
        "<br>\n",
        "부모클래스의 메소드를,<br>\n",
        "<br>\n",
        "자식 클래스에서 같은 메소드를 **새로 정의하면**?<br>\n",
        "자식 클래스의 메소드를!"
      ]
    },
    {
      "cell_type": "code",
      "execution_count": null,
      "metadata": {
        "id": "08ctmLYIkOuJ"
      },
      "outputs": [],
      "source": [
        "class BlackBox: # 부모클래스\n",
        "    def __init__(self, name, price):\n",
        "        self.name = name \n",
        "        self.price = price \n",
        "\n",
        "class VideoMaker:\n",
        "    def make(self):\n",
        "        print('추억용 여행 영상 제작')\n",
        "    \n",
        "class MailSender:\n",
        "    def send(self):\n",
        "        print('메일 발송')\n",
        "\n",
        "class TravelBlackBox(BlackBox, VideoMaker, MailSender): # 자식클래스\n",
        "    def __init__(self, name, price, sd):\n",
        "        super().__init__(name, price)\n",
        "        self.sd = sd\n",
        "    def set_travel_mode(self, min):\n",
        "        print(str(min) + '분 동안 여행 모드 ON') \n",
        "\n",
        "class AdvancedTravelBlackBox(TravelBlackBox):\n",
        "    def set_travel_mode(self, min):\n",
        "        print(str(min) + '분 동안 여행 모드 ON')\n",
        "        self.make() # 추억용 여행 영상 제작\n",
        "        self.send() # 메일 발송\n",
        "\n",
        "b1 = TravelBlackBox('하양이', 100000, 64) # name, price, sd\n",
        "b1.set_travel_mode(20)\n",
        "\n",
        "b2 = AdvancedTravelBlackBox('초록이', 120000, 64)\n",
        "b2.set_travel_mode(15)"
      ]
    },
    {
      "cell_type": "markdown",
      "metadata": {
        "id": "BovBqv94dAtH"
      },
      "source": [
        "## pass"
      ]
    },
    {
      "cell_type": "markdown",
      "metadata": {
        "id": "wOtOvA_UlwV0"
      },
      "source": [
        "나중에 할게, 일단 내버려 둬"
      ]
    },
    {
      "cell_type": "markdown",
      "metadata": {
        "id": "YWCFcxwqmMeZ"
      },
      "source": [
        "클래스, 반복문(for, while), if 조건문, 함수 등에 사용 가능"
      ]
    },
    {
      "cell_type": "code",
      "execution_count": null,
      "metadata": {
        "id": "qJ19e_T_l5lE"
      },
      "outputs": [],
      "source": [
        "class BlackBox:\n",
        "    def __init__(self):\n",
        "        pass\n",
        "    def record(self):\n",
        "        pass\n",
        "    def stop(self):\n",
        "        pass\n",
        "    def format(self):\n",
        "        pass"
      ]
    },
    {
      "cell_type": "markdown",
      "metadata": {
        "id": "OPLqujCgdAvl"
      },
      "source": [
        "# 예외처리"
      ]
    },
    {
      "cell_type": "code",
      "execution_count": null,
      "metadata": {
        "id": "xE3WXavvmrbV"
      },
      "outputs": [],
      "source": [
        "try:\n",
        "    수행 문장\n",
        "except:\n",
        "    에러 발생 시 수행 문장\n",
        "else:\n",
        "    정상 동작 시 수행 문장\n",
        "finally:\n",
        "    마지막으로 수행할 문장"
      ]
    },
    {
      "cell_type": "code",
      "execution_count": null,
      "metadata": {
        "id": "jCaoECZpnWN-"
      },
      "outputs": [],
      "source": [
        "try:\n",
        "    resulf = num1 / num2\n",
        "    print(f'연산 결과는 {resulf}입니다')\n",
        "except:\n",
        "    print('에러가 발생했어요')\n",
        "else:\n",
        "    print('정상 동작했어요')\n",
        "finally:\n",
        "    print('수행 종료')"
      ]
    },
    {
      "cell_type": "markdown",
      "metadata": {
        "id": "HBTdC2qrdAxr"
      },
      "source": [
        "# 에러"
      ]
    },
    {
      "cell_type": "markdown",
      "metadata": {
        "id": "3jVUBfqslm13"
      },
      "source": [
        "에러의 종류에 따라 서로 다른 처리를 하고자 할 때 **except**구문을 여러개 적어서 예외처리 가능"
      ]
    },
    {
      "cell_type": "code",
      "execution_count": null,
      "metadata": {
        "id": "lqN2j8ZjlVF5"
      },
      "outputs": [],
      "source": [
        "try:\n",
        "    resulf = num1 / num2\n",
        "    print(f'연산 결과는 {resulf}입니다')\n",
        "except ZeroDivisionError:\n",
        "    print('0 으로 나눌 수 없어요')\n",
        "except TypeError:\n",
        "    print('값의 형태가 이상해요')\n",
        "except Exception as err:\n",
        "    print('에러가 발생했어요 : ', err)"
      ]
    },
    {
      "cell_type": "markdown",
      "metadata": {
        "id": "WUjZYVPVmQkR"
      },
      "source": [
        "[python exceptions](https://docs.python.org/3/library/exceptions.html)"
      ]
    },
    {
      "cell_type": "markdown",
      "metadata": {
        "id": "olBYUDh-dA0R"
      },
      "source": [
        "# 모듈"
      ]
    },
    {
      "cell_type": "markdown",
      "metadata": {
        "id": "pDqcbxZFmmDF"
      },
      "source": [
        "코드들이 작성되어있는 하나의 파이썬 파일"
      ]
    },
    {
      "cell_type": "code",
      "execution_count": null,
      "metadata": {
        "id": "dUMwyT8amv8D"
      },
      "outputs": [],
      "source": [
        "import 모듈 # 모듈 전체 사용 가능\n",
        "from 모듈 import 변수, 함수 또는 클래스 # 모듈 중 필요한 것만 사용"
      ]
    },
    {
      "cell_type": "code",
      "execution_count": null,
      "metadata": {
        "id": "WKZXZ_O8nKkn"
      },
      "outputs": [],
      "source": [
        "import random\n",
        "my_list = ['가위', '바위', '보']\n",
        "print(random.choice(my_list))"
      ]
    },
    {
      "cell_type": "markdown",
      "metadata": {
        "id": "gYzqNYrfnfWV"
      },
      "source": [
        "[list of python modules](https://docs.python.org/3/py-modindex.html)"
      ]
    },
    {
      "cell_type": "markdown",
      "metadata": {
        "id": "Cs1LIRuXdA5l"
      },
      "source": [
        "## 패키지"
      ]
    },
    {
      "cell_type": "markdown",
      "metadata": {
        "id": "xzajH6ODoCU4"
      },
      "source": [
        "여러 모듈들의 모임이다.<br>\n",
        "하나의 폴더 안에 여러 개의 파이썬 파일들로 구성된다.<br>\n",
        "패키지는 import 또는 from ~ import 구문을 통해 가져다 쓸 수 있다."
      ]
    }
  ],
  "metadata": {
    "colab": {
      "collapsed_sections": [
        "JREWKjWfV3tm",
        "PK2YUzOeV5YS",
        "JD3cQfIkV7jM",
        "zLpbRCp6YK_V",
        "6VkefK-Ca49b",
        "eQrxznLka5Wj",
        "yhVqq-xPhfGn",
        "i6mlF4ZzhepK",
        "rYmWzm4hhSPQ",
        "uHnhW5B5gTeS",
        "QixIT47Ia5la",
        "Og8rFF1RlWmJ",
        "sg7fn392mDdt",
        "kDNyJT5ZbQkF",
        "q3KfV1eOnpgB",
        "8tb0GJscoJ2b",
        "PXEycRHpbQ8P",
        "w_Fr0TU-ow38",
        "cmMR88U0bQo-",
        "PU0AxZSmbeFV",
        "bArO3KpgbeYt",
        "A6ztYU4YietV",
        "-0xxy4NmjY7g",
        "sqpP4GNybeqL",
        "Y_pmx0VmbvHj",
        "zIqx1CClbvZy",
        "gCbSJQK9b3j5",
        "L2LPeFGQb34Y",
        "o-FOOsmYb6Xc",
        "eWnu0xrLb61I",
        "mmzlofjng2ip",
        "yxZP-YqqhPmz",
        "ML0kdD54nZnw",
        "zaOrPNxahR_K",
        "TdfB7lJthC24",
        "qfW2t_YgPClN",
        "X-4M8ZW_hDVF",
        "7hG7W0lShEVy",
        "4vlZdMWQhFXE",
        "oeWsjq2whHoK",
        "fi4FwIbNhIG8",
        "0JU2AhIDhImd",
        "7YIQWW0ShI94",
        "90E_Cx9Who90",
        "uD96Hi-zhs7Q",
        "UDJbBB0jhs_l",
        "E4i-oNmehtG0",
        "dqLk0UeUhtKf",
        "2cjW3sYvhtOe",
        "GmS9DdC4htSH",
        "CtPAbpQ9htVg",
        "xvG-MOr2htZJ",
        "NJrleffjiA8q",
        "WjscU2ElgRzR",
        "LVsjEBp9c_iI",
        "e_qczCdic_nJ",
        "yCq_MrTSdAAl",
        "l-KbC7eadAg7",
        "KZJvZi1edAj1",
        "DDOTouJFdAmV",
        "4Q-pLCHvdAoj",
        "Ut6_rBG_dAq4",
        "BovBqv94dAtH",
        "OPLqujCgdAvl",
        "HBTdC2qrdAxr",
        "olBYUDh-dA0R",
        "Cs1LIRuXdA5l"
      ],
      "private_outputs": true,
      "provenance": []
    },
    "gpuClass": "standard",
    "kernelspec": {
      "display_name": "Python 3.10.5 64-bit",
      "language": "python",
      "name": "python3"
    },
    "language_info": {
      "codemirror_mode": {
        "name": "ipython",
        "version": 3
      },
      "file_extension": ".py",
      "mimetype": "text/x-python",
      "name": "python",
      "nbconvert_exporter": "python",
      "pygments_lexer": "ipython3",
      "version": "3.10.5"
    },
    "vscode": {
      "interpreter": {
        "hash": "369f2c481f4da34e4445cda3fffd2e751bd1c4d706f27375911949ba6bb62e1c"
      }
    }
  },
  "nbformat": 4,
  "nbformat_minor": 0
}
