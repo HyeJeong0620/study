{
  "nbformat": 4,
  "nbformat_minor": 0,
  "metadata": {
    "colab": {
      "provenance": [],
      "collapsed_sections": []
    },
    "kernelspec": {
      "name": "python3",
      "display_name": "Python 3"
    },
    "language_info": {
      "name": "python"
    }
  },
  "cells": [
    {
      "cell_type": "markdown",
      "source": [
        "## 리스트 컴프리헨션 사용"
      ],
      "metadata": {
        "id": "n6NQ9PzN7p2d"
      }
    },
    {
      "cell_type": "code",
      "source": [
        "even = []\n",
        "for x in range(0, 11):\n",
        "  if x % 2 == 0:\n",
        "    even.append(x)\n",
        "print(even)"
      ],
      "metadata": {
        "colab": {
          "base_uri": "https://localhost:8080/"
        },
        "id": "pOmzP9Lz7uz3",
        "outputId": "2804503e-2cd1-4b29-c87b-1f61a9d69636"
      },
      "execution_count": null,
      "outputs": [
        {
          "output_type": "stream",
          "name": "stdout",
          "text": [
            "[0, 2, 4, 6, 8, 10]\n"
          ]
        }
      ]
    },
    {
      "cell_type": "code",
      "source": [
        "m = []\n",
        "for x in range(0, 10):\n",
        "  if x % 2 == 1:\n",
        "    m.append(x)\n",
        "m"
      ],
      "metadata": {
        "colab": {
          "base_uri": "https://localhost:8080/"
        },
        "id": "OMUEKpbSfa1j",
        "outputId": "83ec5771-a057-4277-f698-ff13a99370bb"
      },
      "execution_count": null,
      "outputs": [
        {
          "output_type": "execute_result",
          "data": {
            "text/plain": [
              "[1, 3, 5, 7, 9]"
            ]
          },
          "metadata": {},
          "execution_count": 14
        }
      ]
    },
    {
      "cell_type": "code",
      "source": [
        "m2 = [ x for x in range(0, 10) if x % 2 == 1]\n",
        "m2"
      ],
      "metadata": {
        "colab": {
          "base_uri": "https://localhost:8080/"
        },
        "id": "VknQoHjxfpji",
        "outputId": "47949a89-dd1f-45c3-f7b4-19becb6c7b1b"
      },
      "execution_count": null,
      "outputs": [
        {
          "output_type": "execute_result",
          "data": {
            "text/plain": [
              "[1, 3, 5, 7, 9]"
            ]
          },
          "metadata": {},
          "execution_count": 15
        }
      ]
    },
    {
      "cell_type": "code",
      "source": [
        "even2 = [ x for x in range(10) if x % 2 == 0 ]\n",
        "even2"
      ],
      "metadata": {
        "id": "HLh08GTn9oQf",
        "colab": {
          "base_uri": "https://localhost:8080/"
        },
        "outputId": "34de187a-478c-460b-c2e9-06f9acb0a50b"
      },
      "execution_count": null,
      "outputs": [
        {
          "output_type": "execute_result",
          "data": {
            "text/plain": [
              "[0, 2, 4, 6, 8]"
            ]
          },
          "metadata": {},
          "execution_count": 9
        }
      ]
    },
    {
      "cell_type": "code",
      "source": [
        "squares = []\n",
        "for x in range(10):\n",
        "  squares.append(x**2)\n",
        "squares"
      ],
      "metadata": {
        "colab": {
          "base_uri": "https://localhost:8080/"
        },
        "id": "TFtEfBfbf3ya",
        "outputId": "69880aba-8914-42d6-8c97-c2d9a9b5e643"
      },
      "execution_count": null,
      "outputs": [
        {
          "output_type": "execute_result",
          "data": {
            "text/plain": [
              "[0, 1, 4, 9, 16, 25, 36, 49, 64, 81]"
            ]
          },
          "metadata": {},
          "execution_count": 10
        }
      ]
    },
    {
      "cell_type": "code",
      "source": [
        "squares = [ x**2 for x in range(10)]\n",
        "squares"
      ],
      "metadata": {
        "colab": {
          "base_uri": "https://localhost:8080/"
        },
        "id": "FvbnJ1At-fq8",
        "outputId": "57e6dcea-4bef-490b-852f-9e45b63c6bf9"
      },
      "execution_count": null,
      "outputs": [
        {
          "output_type": "execute_result",
          "data": {
            "text/plain": [
              "[0, 1, 4, 9, 16, 25, 36, 49, 64, 81]"
            ]
          },
          "metadata": {},
          "execution_count": 11
        }
      ]
    },
    {
      "cell_type": "code",
      "source": [
        "squares2 = [ x**3 for x in range(10)]\n",
        "squares2"
      ],
      "metadata": {
        "id": "R_nlWgrp-6Ug",
        "colab": {
          "base_uri": "https://localhost:8080/"
        },
        "outputId": "ea3026fb-ae9d-4323-c41a-f9ab0cb27525"
      },
      "execution_count": null,
      "outputs": [
        {
          "output_type": "execute_result",
          "data": {
            "text/plain": [
              "[0, 1, 8, 27, 64, 125, 216, 343, 512, 729]"
            ]
          },
          "metadata": {},
          "execution_count": 12
        }
      ]
    }
  ]
}